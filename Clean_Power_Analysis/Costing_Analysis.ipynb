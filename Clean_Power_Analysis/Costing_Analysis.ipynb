{
 "cells": [
  {
   "metadata": {},
   "cell_type": "code",
   "source": [
    "import os\n",
    "from dotenv import find_dotenv, load_dotenv\n",
    "from shapely.ops import orient\n",
    "\n",
    "load_dotenv(find_dotenv())\n",
    "src_path = os.environ.get(\"PROJECT_SRC\")\n",
    "os.chdir(src_path)\n",
    "\n",
    "src_path"
   ],
   "id": "720a17ce2fed1eb1",
   "outputs": [],
   "execution_count": null
  },
  {
   "metadata": {
    "jupyter": {
     "is_executing": true
    }
   },
   "cell_type": "code",
   "source": [
    "import pandas as pd\n",
    "import matplotlib.pyplot as plt\n",
    "\n",
    "plt.style.use(\"ggplot\")\n",
    "import generators\n",
    "from data_reader_writer import data_writer"
   ],
   "id": "c4a9e0220a9e2a7b",
   "outputs": [],
   "execution_count": null
  },
  {
   "metadata": {},
   "cell_type": "markdown",
   "source": "# Costing Analysis of 2030 Generation",
   "id": "76b8649eb56ac9b4"
  },
  {
   "metadata": {},
   "cell_type": "code",
   "source": [
    "year = 2030\n",
    "FES_scenario = \"Leading The Way\"\n",
    "FES_year = 2022\n",
    "euro_to_gbp = 1.20"
   ],
   "id": "d47979edee4997",
   "outputs": [],
   "execution_count": null
  },
  {
   "metadata": {},
   "cell_type": "code",
   "source": [
    "PV_investment: dict[str, float] = {\n",
    "    \"PV module\": 0.11 * 10 ** 6,  # euro/MW\n",
    "    \"Inverter\": 0.02 * 10 ** 6,  # euro/MW\n",
    "    \"Transformer\": 0.04 * 10 ** 6,  # euro/MW\n",
    "    \"Installation\": 0.08 * 10 ** 6,  # euro/MW\n",
    "    \"Soft costs\": 0.02 * 10 ** 6,  # euro/MW\n",
    "    \"Residual balance of plant, mark-up & contingency cost\": 0.03 * 10 ** 6,  # euro/MW\n",
    "}\n",
    "\n",
    "ccgt_investment: dict[str, float] = {\n",
    "    \"Equipment nominal investment\": 0.64 * 10 ** 6,  # euro/MW\n",
    "    \"Installation nominal investment\": 0.19 * 10 ** 6,  # euro/MW\n",
    "    \"Fixed O&M per year\": 27_800,  # euro/MW\n",
    "}\n",
    "\n",
    "wind_offshore_investment: dict[str, float] = {\n",
    "    \"Fixed bottom cost per year\": 39_000,  # euro/MW\n",
    "}\n",
    "\n",
    "wind_onshore_investment: dict[str, float] = {\n",
    "    \"Equipment nominal investment\": 0.978 * 10 ** 6,  # euro/MW\n",
    "    \"Installation nominal investment\": 0.101 * 10 ** 6,  # euro/MW\n",
    "    \"Grid connection nominal investment\": 0.019 * 10 ** 6,  # euro/MW\n",
    "    \"Land purchase nominal investment\": 0.122 * 10 ** 6,  # euro/MW\n",
    "    \"Decommissioning existing turbines\": 0.035 * 10 ** 6,  # euro/MW\n",
    "    \"Purchase of neighbour settlements\": 0.077 * 10 ** 6,  # euro/MW\n",
    "    \"Fixed O&M per year\": 19_676,  # euro/MW\n",
    "}\n",
    "\n",
    "biomass_investment: dict[str, float] = {\n",
    "    \"Equipment nominal investment\": 6.00 * 10 ** 6,  # euro/MW\n",
    "    \"Installation nominal investment\": 3.70 * 10 ** 6,  # euro/MW\n",
    "    \"Fixed O&M per year\": 273_000,  # euro/MW\n",
    "}\n",
    "\n",
    "nuclear_investment: dict[str, float] = {\n",
    "    \"\"\n",
    "}"
   ],
   "id": "e3723a9e6acf8fa8",
   "outputs": [],
   "execution_count": null
  },
  {
   "metadata": {},
   "cell_type": "markdown",
   "source": "## FES Data",
   "id": "5617a124b3a2f8c1"
  },
  {
   "metadata": {},
   "cell_type": "code",
   "source": [
    "start = str(year) + \"-01-01 00:00:00\"\n",
    "end = str(year) + \"-12-31 03:30:00\"\n",
    "# time step as fraction of hour\n",
    "time_step = 0.5\n",
    "if year > 2020:\n",
    "    data_writer(start, end, time_step, year, demand_dataset=\"eload\", year_baseline=2012, scenario=FES_scenario,\n",
    "                FES=FES_year)\n",
    "if year <= 2020:\n",
    "    data_writer(start, end, time_step, year, demand_dataset=\"historical\")\n",
    "\n",
    "df_generators_2030 = pd.read_csv(\"LOPF_data/generators.csv\", index_col=0)\n",
    "\n",
    "# get 2025 data\n",
    "data_writer(\"2025-01-01 00:00:00\", \"2025-12-31 23:30:00\", time_step, \"2025\", demand_dataset=\"eload\", year_baseline=2012,\n",
    "            scenario=FES_scenario, FES=FES_year)\n",
    "df_generators_2025 = pd.read_csv(\"LOPF_data/generators.csv\", index_col=0)"
   ],
   "id": "866c666d592b9de5",
   "outputs": [],
   "execution_count": null
  },
  {
   "metadata": {},
   "cell_type": "code",
   "source": [
    "generators_p_nom_2030 = df_generators_2030.p_nom.groupby(df_generators_2030.carrier).sum().sort_values()\n",
    "if year > 2020:\n",
    "    generators_p_nom_2030.drop(\"Unmet Load\", inplace=True)\n",
    "generators_p_nom_2030.drop(generators_p_nom_2030[generators_p_nom_2030 < 50].index, inplace=True)\n",
    "\n",
    "generators_p_nom_2025 = df_generators_2025.p_nom.groupby(df_generators_2025.carrier).sum().sort_values()\n",
    "if year > 2020:\n",
    "    generators_p_nom_2025.drop(\"Unmet Load\", inplace=True)\n",
    "generators_p_nom_2025.drop(generators_p_nom_2025[generators_p_nom_2025 < 50].index, inplace=True)\n",
    "\n",
    "generators_p_nom_FES = generators_p_nom_2030 - generators_p_nom_2025\n",
    "\n",
    "plt.rcParams.update({\"font.size\": 22})\n",
    "# bar chart\n",
    "plt.figure(figsize=(15, 10))\n",
    "plt.bar(generators_p_nom_FES.index, generators_p_nom_FES.values / 1000)\n",
    "plt.xticks(generators_p_nom_FES.index, rotation=90)\n",
    "plt.ylabel(\"GW\")\n",
    "plt.grid(color=\"grey\", linewidth=1, axis=\"both\", alpha=0.5)\n",
    "plt.title(\"Installed capacity in year \" + str(year))\n",
    "plt.show()"
   ],
   "id": "36567ff9f5c8d50e",
   "outputs": [],
   "execution_count": null
  },
  {
   "metadata": {},
   "cell_type": "code",
   "source": "generators_p_nom_2030.index",
   "id": "22cc7ac36793ada6",
   "outputs": [],
   "execution_count": null
  },
  {
   "metadata": {},
   "cell_type": "code",
   "source": [
    "solar_cost: float = 0.00\n",
    "offshore_cost: float = 0.00\n",
    "onshore_cost: float = 0.00\n",
    "biomass_cost: float = 0.00\n",
    "ccgt_cost: float = 0.00\n",
    "\n",
    "for gen_tech in generators_p_nom_2030.index:\n",
    "    if gen_tech == \"Solar Photovoltaics\":\n",
    "        for key, value in PV_investment.items():\n",
    "            solar_cost += value * generators_p_nom_2030[\"Solar Photovoltaics\"]\n",
    "\n",
    "    if gen_tech == \"Wind Offshore\":\n",
    "        for key, value in wind_offshore_investment.items():\n",
    "            offshore_cost += value * generators_p_nom_2030[\"Wind Offshore\"]\n",
    "\n",
    "    if gen_tech == \"Wind Onshore\":\n",
    "        for key, value in wind_onshore_investment.items():\n",
    "            onshore_cost += value * generators_p_nom_2030[\"Wind Onshore\"]\n",
    "\n",
    "    if gen_tech == \"Biomass (dedicated)\":\n",
    "        for key, value in biomass_investment.items():\n",
    "            biomass_cost += value * generators_p_nom_2030[\"Biomass (dedicated)\"]\n",
    "\n",
    "    if gen_tech == \"Natural Gas\":\n",
    "        for key, value in ccgt_investment.items():\n",
    "            ccgt_cost += value * generators_p_nom_2030[\"Natural Gas\"]\n",
    "\n",
    "solar_cost *= 1.20\n",
    "offshore_cost *= 1.20\n",
    "onshore_cost *= 1.20\n",
    "biomass_cost *= 1.20\n",
    "ccgt_cost *= 1.20\n",
    "\n",
    "# print(\n",
    "#     f\"{\"Solar\":<15}{\"|\":^1}{u\"\\N{POUND SIGN}\":>2}{solar_cost/10**6:>9.2f} {\"M\":<1} \\n\"\n",
    "#     f\"{\"Wind Offshore\":<15}{\"|\":^1}{u\"\\N{POUND SIGN}\":>2}{offshore_cost/10**6:>9.2f} {\"M\":<1} \\n\"\n",
    "#     f\"{\"Wind Onshore\":<15}{\"|\":^1}{u\"\\N{POUND SIGN}\":>2}{onshore_cost/10**6:>9.2f} {\"M\":<1} \\n\"\n",
    "#     f\"{\"Biomass\":<15}{\"|\":^1}{u\"\\N{POUND SIGN}\":>2}{biomass_cost/10**6:>9.2f} {\"M\":<1} \\n\"\n",
    "#     f\"{\"CCGT\":<15}{\"|\":^1}{u\"\\N{POUND SIGN}\":>2}{ccgt_cost/10**6:>9.2f} {\"M\":<1} \\n\"\n",
    "# )"
   ],
   "id": "25c8e3beef76bdf7",
   "outputs": [],
   "execution_count": null
  },
  {
   "metadata": {},
   "cell_type": "markdown",
   "source": "## Neso Data Further Flex",
   "id": "8e330c1070017572"
  },
  {
   "metadata": {},
   "cell_type": "code",
   "source": [
    "gen_data: dict[str, float] = {\n",
    "    \"Solar Photovoltaics\": 47.4 * 10 ** 3,  # MW\n",
    "    \"Wind Offshore\": 50.6 * 10 ** 3,  # MW\n",
    "    \"Wind Onshore\": 27.3 * 10 ** 3,  # MW\n",
    "    \"Biomass (dedicated)\": 4.0 * 10 ** 3,  # MW\n",
    "    \"Natural Gas\": 35.0 * 10 ** 3,  # MW\n",
    "    \"Nuclear\": 3.5 * 10 ** 3,  # MW\n",
    "    \"Hydrogen\": 0.3 * 10 ** 3,  # MW\n",
    "}\n",
    "\n",
    "df_neso_ff = pd.DataFrame(list(gen_data.items()), columns=[\"Technology\", \"Capacity [MW]\"].set_index(\"Technology\"))\n",
    "df_neso_ff"
   ],
   "id": "c19fc9b63beb4f0b",
   "outputs": [],
   "execution_count": null
  },
  {
   "metadata": {},
   "cell_type": "code",
   "source": "",
   "id": "3a2b57f743ed4f78",
   "outputs": [],
   "execution_count": null
  }
 ],
 "metadata": {
  "kernelspec": {
   "display_name": "PyPSA-GB",
   "language": "python",
   "name": "pypsa-gb"
  },
  "language_info": {
   "codemirror_mode": {
    "name": "ipython",
    "version": 2
   },
   "file_extension": ".py",
   "mimetype": "text/x-python",
   "name": "python",
   "nbconvert_exporter": "python",
   "pygments_lexer": "ipython2",
   "version": "2.7.6"
  }
 },
 "nbformat": 4,
 "nbformat_minor": 5
}
