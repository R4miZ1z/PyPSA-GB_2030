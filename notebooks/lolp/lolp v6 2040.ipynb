{
 "cells": [
  {
   "cell_type": "markdown",
   "metadata": {},
   "source": [
    "# System Reliablity Assessment for Security of Supply\n",
    "---\n",
    "Title: Power system relianbility modelling v1   \n",
    "Authors: Dr Wei Sun (w.sun@ed.ac.uk), Yifan Wang   \n",
    "Date: 17-Nov-2022   \n",
    "<!-- --- -->"
   ]
  },
  {
   "cell_type": "code",
   "execution_count": 1,
   "metadata": {},
   "outputs": [],
   "source": [
    "import time\n",
    "st = time.time()"
   ]
  },
  {
   "cell_type": "code",
   "execution_count": 2,
   "metadata": {},
   "outputs": [],
   "source": [
    "import os\n",
    "from dotenv import find_dotenv, load_dotenv\n",
    "load_dotenv(find_dotenv())\n",
    "src_path = os.environ.get('PROJECT_SRC')\n",
    "os.chdir(src_path)"
   ]
  },
  {
   "cell_type": "code",
   "execution_count": 3,
   "metadata": {},
   "outputs": [],
   "source": [
    "import numpy as np\n",
    "import pypsa\n",
    "import matplotlib.pyplot as plt\n",
    "plt.style.use('ggplot')\n",
    "import pandas as pd\n",
    "import cartopy.crs as ccrs\n",
    "\n",
    "import data_reader_writer\n",
    "import scotland_network"
   ]
  },
  {
   "cell_type": "markdown",
   "metadata": {},
   "source": [
    "## Setting up simulation"
   ]
  },
  {
   "cell_type": "markdown",
   "metadata": {},
   "source": [
    "Set the required inputs for the LOPF: the start, end and year of simulation, and the timestep."
   ]
  },
  {
   "cell_type": "code",
   "execution_count": 4,
   "metadata": {},
   "outputs": [],
   "source": [
    "# write csv files for import\n",
    "start = '2040-01-01 00:00:00'\n",
    "end = '2040-12-31 23:30:00'\n",
    "# year of simulation\n",
    "year = int(start[0:4])\n",
    "# time step as fraction of hour\n",
    "time_step = 1."
   ]
  },
  {
   "cell_type": "markdown",
   "metadata": {},
   "source": [
    "Choose from one of the National Grid Future Energy Scenarios."
   ]
  },
  {
   "cell_type": "code",
   "execution_count": 5,
   "metadata": {},
   "outputs": [],
   "source": [
    "# scenario = 'Leading The Way'\n",
    "# scenario = 'Consumer Transformation'\n",
    "scenario = 'System Transformation'\n",
    "# scenario = 'Steady Progression'"
   ]
  },
  {
   "cell_type": "markdown",
   "metadata": {},
   "source": [
    "Choose a baseline year (from 2010-2020). The baseline year determines which historical load profile and weather dataset is used for the future year modelled. The National Grid FES modellers used 2012 as their baseline year."
   ]
  },
  {
   "cell_type": "code",
   "execution_count": 6,
   "metadata": {},
   "outputs": [],
   "source": [
    "year_baseline = 2020\n",
    "# delet all except links"
   ]
  },
  {
   "cell_type": "markdown",
   "metadata": {},
   "source": [
    "data_reader_writer is a script written to read in data from the various sources and write csv files in the format required for populating a PyPSA network object"
   ]
  },
  {
   "cell_type": "code",
   "execution_count": 7,
   "metadata": {
    "scrolled": true
   },
   "outputs": [],
   "source": [
    "data_reader_writer.data_writer(start, end, time_step, year, demand_dataset='historical', year_baseline=year_baseline,\n",
    "                               scenario=scenario, FES=2022, merge_generators=True)"
   ]
  },
  {
   "cell_type": "code",
   "execution_count": 8,
   "metadata": {},
   "outputs": [
    {
     "name": "stdout",
     "output_type": "stream",
     "text": [
      "Processed: buses.csv, \n",
      "loads.csv, \n",
      "generators.csv, \n",
      "storage_units.csv, \n",
      "generators-marginal_cost.csv, \n",
      "generators-p_max_pu.csv, \n",
      "loads-p_set.csv, \n",
      "links.csv, \n",
      "lines.csv, \n",
      "links.csv (from lines), \n",
      "snapshots.csv\n"
     ]
    }
   ],
   "source": [
    "scotland_network.scotland()\n",
    "scotland_network.interconnector()"
   ]
  },
  {
   "cell_type": "code",
   "execution_count": 9,
   "metadata": {},
   "outputs": [
    {
     "name": "stderr",
     "output_type": "stream",
     "text": [
      "WARNING:pypsa.io:\n",
      "Importing PyPSA from older version of PyPSA than current version.\n",
      "Please read the release notes at https://pypsa.readthedocs.io/en/latest/release_notes.html\n",
      "carefully to prepare your network for import.\n",
      "Currently used PyPSA version [0, 20, 1], imported network file PyPSA version None.\n",
      "\n",
      "INFO:pypsa.components:Applying weightings to all columns of `snapshot_weightings`\n",
      "WARNING:pypsa.io:The following Generator have buses which are not defined:\n",
      "Index(['Moyle', 'NorthConnect', 'Neilston-Deeside', 'Strathaven-Harker',\n",
      "       'Eccles-Stella West'],\n",
      "      dtype='object')\n",
      "WARNING:pypsa.io:The following Link have buses which are not defined:\n",
      "Index(['Moyle', 'NorthConnect'], dtype='object', name='name')\n",
      "WARNING:pypsa.io:The following Link have buses which are not defined:\n",
      "Index(['Neilston-Deeside', 'Strathaven-Harker', 'Eccles-Stella West'], dtype='object', name='name')\n",
      "INFO:pypsa.io:Imported network LOPF_data_Scotland has buses, generators, lines, links, loads, storage_units\n"
     ]
    }
   ],
   "source": [
    "network = pypsa.Network()\n",
    "network.import_from_csv_folder('LOPF_data_Scotland')"
   ]
  },
  {
   "cell_type": "code",
   "execution_count": 10,
   "metadata": {},
   "outputs": [],
   "source": [
    "# network.storage_units = network.storage_units[network.storage_units['carrier']=='Pumped Storage Hydroelectric']"
   ]
  },
  {
   "cell_type": "markdown",
   "metadata": {},
   "source": [
    "Lines need to be scaled up to accomadate for future generation, and specific analysis will be done on this in a later notebook.\n",
    "Note: interconnects are links in future, so don't need to be selective here (as was required in historical simulation)."
   ]
  },
  {
   "cell_type": "code",
   "execution_count": 11,
   "metadata": {},
   "outputs": [],
   "source": [
    "contingency_factor = 4\n",
    "network.lines.s_max_pu *= contingency_factor"
   ]
  },
  {
   "cell_type": "markdown",
   "metadata": {},
   "source": [
    "## System reliablity modelling for security of supply.\n",
    "The method of  power system reliability modeling is based on Capacity Outage Probability Table\n",
    "(ref: )\n",
    "\n",
    "Input Description:\n",
    "- GENERATOR CAPACITIES is the  capacity of each generator\n",
    "- GENERATOR OUTAGE is corresponding Forced Outage Rate (EFORd) for each generator (namely, the breakdown rate)\n",
    "\n",
    "Output Description:\n",
    "- LOLP: [System Capacity Available, State Probabilities]\n",
    "- LOLE"
   ]
  },
  {
   "cell_type": "markdown",
   "metadata": {},
   "source": [
    "## Generation type conversion for breakdown rate\n",
    "\n",
    "The breakdown rates from National Grid Winter Outlook only include the main generation types. The generation types considered in pypsa-gb are much more that that. Therefore, mapping is needed and provided below.\n",
    "\n",
    "For wind and other similar weather-dependent generation, they are labeled as 'weather dependent', as their output/contribution will be givenlater using the acctually generation profile time series.\n",
    "\n",
    "For any type that are reckoned to be excluded at the lolp calculation, they are labeled as 'exlcuded'\n"
   ]
  },
  {
   "cell_type": "code",
   "execution_count": 12,
   "metadata": {},
   "outputs": [],
   "source": [
    "bd_conversion_type = [['Coal', 'Nuclear', 'Oil', 'Wind Offshore', 'Wind Onshore', 'Solar Photovoltaics', 'Large Hydro', 'Small Hydro', 'Anaerobic Digestion', 'EfW Incineration', 'Landfill Gas', 'Sewage Sludge Digestion', 'Shoreline Wave', 'Tidal Barrage and Tidal Stream', 'Biomass (co-firing)', 'Biomass (dedicated)','Pumped Storage Hydroelectric', 'Battery', 'Compressed Air', 'Liquid Air', 'Interconnector', 'Englandconnector',\n",
    "                       'CCS Gas', 'CCS Biomass', 'Hydrogen', 'Unmet Load', 'Tidal lagoon', 'Tidal stream', 'Wave power', 'Waste'],\n",
    "                      ['Coal', 'Nuclear', 'OCGT', 'Weather Dependent', 'Weather Dependent', 'Weather Dependent', 'Hydro', 'Hydro', 'Biomass', 'Biomass', 'Biomass', 'Biomass', 'Excluded', 'Excluded', 'Biomass', 'Biomass','Pumped storage', 'Battery', 'CCGT', 'CCGT', 'Interconnector', 'Englandconnector',\n",
    "                       'CCGT', 'Biomass', 'CCGT', 'Excluded', 'Excluded', 'Excluded', 'Excluded', 'Biomass']]"
   ]
  },
  {
   "cell_type": "code",
   "execution_count": 13,
   "metadata": {},
   "outputs": [
    {
     "data": {
      "text/html": [
       "<div>\n",
       "<style scoped>\n",
       "    .dataframe tbody tr th:only-of-type {\n",
       "        vertical-align: middle;\n",
       "    }\n",
       "\n",
       "    .dataframe tbody tr th {\n",
       "        vertical-align: top;\n",
       "    }\n",
       "\n",
       "    .dataframe thead th {\n",
       "        text-align: right;\n",
       "    }\n",
       "</style>\n",
       "<table border=\"1\" class=\"dataframe\">\n",
       "  <thead>\n",
       "    <tr style=\"text-align: right;\">\n",
       "      <th></th>\n",
       "      <th>0</th>\n",
       "      <th>1</th>\n",
       "    </tr>\n",
       "  </thead>\n",
       "  <tbody>\n",
       "    <tr>\n",
       "      <th>0</th>\n",
       "      <td>Coal</td>\n",
       "      <td>Coal</td>\n",
       "    </tr>\n",
       "    <tr>\n",
       "      <th>1</th>\n",
       "      <td>Nuclear</td>\n",
       "      <td>Nuclear</td>\n",
       "    </tr>\n",
       "    <tr>\n",
       "      <th>2</th>\n",
       "      <td>Oil</td>\n",
       "      <td>OCGT</td>\n",
       "    </tr>\n",
       "    <tr>\n",
       "      <th>3</th>\n",
       "      <td>Wind Offshore</td>\n",
       "      <td>Weather Dependent</td>\n",
       "    </tr>\n",
       "    <tr>\n",
       "      <th>4</th>\n",
       "      <td>Wind Onshore</td>\n",
       "      <td>Weather Dependent</td>\n",
       "    </tr>\n",
       "    <tr>\n",
       "      <th>5</th>\n",
       "      <td>Solar Photovoltaics</td>\n",
       "      <td>Weather Dependent</td>\n",
       "    </tr>\n",
       "    <tr>\n",
       "      <th>6</th>\n",
       "      <td>Large Hydro</td>\n",
       "      <td>Hydro</td>\n",
       "    </tr>\n",
       "    <tr>\n",
       "      <th>7</th>\n",
       "      <td>Small Hydro</td>\n",
       "      <td>Hydro</td>\n",
       "    </tr>\n",
       "    <tr>\n",
       "      <th>8</th>\n",
       "      <td>Anaerobic Digestion</td>\n",
       "      <td>Biomass</td>\n",
       "    </tr>\n",
       "    <tr>\n",
       "      <th>9</th>\n",
       "      <td>EfW Incineration</td>\n",
       "      <td>Biomass</td>\n",
       "    </tr>\n",
       "    <tr>\n",
       "      <th>10</th>\n",
       "      <td>Landfill Gas</td>\n",
       "      <td>Biomass</td>\n",
       "    </tr>\n",
       "    <tr>\n",
       "      <th>11</th>\n",
       "      <td>Sewage Sludge Digestion</td>\n",
       "      <td>Biomass</td>\n",
       "    </tr>\n",
       "    <tr>\n",
       "      <th>12</th>\n",
       "      <td>Shoreline Wave</td>\n",
       "      <td>Excluded</td>\n",
       "    </tr>\n",
       "    <tr>\n",
       "      <th>13</th>\n",
       "      <td>Tidal Barrage and Tidal Stream</td>\n",
       "      <td>Excluded</td>\n",
       "    </tr>\n",
       "    <tr>\n",
       "      <th>14</th>\n",
       "      <td>Biomass (co-firing)</td>\n",
       "      <td>Biomass</td>\n",
       "    </tr>\n",
       "    <tr>\n",
       "      <th>15</th>\n",
       "      <td>Biomass (dedicated)</td>\n",
       "      <td>Biomass</td>\n",
       "    </tr>\n",
       "    <tr>\n",
       "      <th>16</th>\n",
       "      <td>Pumped Storage Hydroelectric</td>\n",
       "      <td>Pumped storage</td>\n",
       "    </tr>\n",
       "    <tr>\n",
       "      <th>17</th>\n",
       "      <td>Battery</td>\n",
       "      <td>Battery</td>\n",
       "    </tr>\n",
       "    <tr>\n",
       "      <th>18</th>\n",
       "      <td>Compressed Air</td>\n",
       "      <td>CCGT</td>\n",
       "    </tr>\n",
       "    <tr>\n",
       "      <th>19</th>\n",
       "      <td>Liquid Air</td>\n",
       "      <td>CCGT</td>\n",
       "    </tr>\n",
       "    <tr>\n",
       "      <th>20</th>\n",
       "      <td>Interconnector</td>\n",
       "      <td>Interconnector</td>\n",
       "    </tr>\n",
       "    <tr>\n",
       "      <th>21</th>\n",
       "      <td>Englandconnector</td>\n",
       "      <td>Englandconnector</td>\n",
       "    </tr>\n",
       "    <tr>\n",
       "      <th>22</th>\n",
       "      <td>CCS Gas</td>\n",
       "      <td>CCGT</td>\n",
       "    </tr>\n",
       "    <tr>\n",
       "      <th>23</th>\n",
       "      <td>CCS Biomass</td>\n",
       "      <td>Biomass</td>\n",
       "    </tr>\n",
       "    <tr>\n",
       "      <th>24</th>\n",
       "      <td>Hydrogen</td>\n",
       "      <td>CCGT</td>\n",
       "    </tr>\n",
       "    <tr>\n",
       "      <th>25</th>\n",
       "      <td>Unmet Load</td>\n",
       "      <td>Excluded</td>\n",
       "    </tr>\n",
       "    <tr>\n",
       "      <th>26</th>\n",
       "      <td>Tidal lagoon</td>\n",
       "      <td>Excluded</td>\n",
       "    </tr>\n",
       "    <tr>\n",
       "      <th>27</th>\n",
       "      <td>Tidal stream</td>\n",
       "      <td>Excluded</td>\n",
       "    </tr>\n",
       "    <tr>\n",
       "      <th>28</th>\n",
       "      <td>Wave power</td>\n",
       "      <td>Excluded</td>\n",
       "    </tr>\n",
       "    <tr>\n",
       "      <th>29</th>\n",
       "      <td>Waste</td>\n",
       "      <td>Biomass</td>\n",
       "    </tr>\n",
       "  </tbody>\n",
       "</table>\n",
       "</div>"
      ],
      "text/plain": [
       "                                 0                  1\n",
       "0                             Coal               Coal\n",
       "1                          Nuclear            Nuclear\n",
       "2                              Oil               OCGT\n",
       "3                    Wind Offshore  Weather Dependent\n",
       "4                     Wind Onshore  Weather Dependent\n",
       "5              Solar Photovoltaics  Weather Dependent\n",
       "6                      Large Hydro              Hydro\n",
       "7                      Small Hydro              Hydro\n",
       "8              Anaerobic Digestion            Biomass\n",
       "9                 EfW Incineration            Biomass\n",
       "10                    Landfill Gas            Biomass\n",
       "11         Sewage Sludge Digestion            Biomass\n",
       "12                  Shoreline Wave           Excluded\n",
       "13  Tidal Barrage and Tidal Stream           Excluded\n",
       "14             Biomass (co-firing)            Biomass\n",
       "15             Biomass (dedicated)            Biomass\n",
       "16    Pumped Storage Hydroelectric     Pumped storage\n",
       "17                         Battery            Battery\n",
       "18                  Compressed Air               CCGT\n",
       "19                      Liquid Air               CCGT\n",
       "20                  Interconnector     Interconnector\n",
       "21                Englandconnector   Englandconnector\n",
       "22                         CCS Gas               CCGT\n",
       "23                     CCS Biomass            Biomass\n",
       "24                        Hydrogen               CCGT\n",
       "25                      Unmet Load           Excluded\n",
       "26                    Tidal lagoon           Excluded\n",
       "27                    Tidal stream           Excluded\n",
       "28                      Wave power           Excluded\n",
       "29                           Waste            Biomass"
      ]
     },
     "execution_count": 13,
     "metadata": {},
     "output_type": "execute_result"
    }
   ],
   "source": [
    "bd_conversion_type_csv = pd.DataFrame(bd_conversion_type).T\n",
    "bd_conversion_type_csv"
   ]
  },
  {
   "cell_type": "markdown",
   "metadata": {},
   "source": [
    "## Breakdown rate table\n",
    "\n",
    "This is based on NG winter outlook. It would be subject to changes based on the users' knowledges or more updated information.  \n",
    "Reference: https://www.nationalgrideso.com/document/268346/download page 12     \n",
    "Battery reference: https://www.emrdeliverybody.com/Lists/Latest%20News/Attachments/150/Duration%20Limited%20Storage%20De-Rating%20Factor%20Assessment%20-%20Final.pdf page 4    "
   ]
  },
  {
   "cell_type": "code",
   "execution_count": 14,
   "metadata": {},
   "outputs": [
    {
     "data": {
      "text/html": [
       "<div>\n",
       "<style scoped>\n",
       "    .dataframe tbody tr th:only-of-type {\n",
       "        vertical-align: middle;\n",
       "    }\n",
       "\n",
       "    .dataframe tbody tr th {\n",
       "        vertical-align: top;\n",
       "    }\n",
       "\n",
       "    .dataframe thead th {\n",
       "        text-align: right;\n",
       "    }\n",
       "</style>\n",
       "<table border=\"1\" class=\"dataframe\">\n",
       "  <thead>\n",
       "    <tr style=\"text-align: right;\">\n",
       "      <th></th>\n",
       "      <th>Type</th>\n",
       "      <th>Breakdown Rate</th>\n",
       "    </tr>\n",
       "  </thead>\n",
       "  <tbody>\n",
       "    <tr>\n",
       "      <th>0</th>\n",
       "      <td>Coal</td>\n",
       "      <td>0.10</td>\n",
       "    </tr>\n",
       "    <tr>\n",
       "      <th>1</th>\n",
       "      <td>CCGT</td>\n",
       "      <td>0.06</td>\n",
       "    </tr>\n",
       "    <tr>\n",
       "      <th>2</th>\n",
       "      <td>Nuclear</td>\n",
       "      <td>0.10</td>\n",
       "    </tr>\n",
       "    <tr>\n",
       "      <th>3</th>\n",
       "      <td>OCGT</td>\n",
       "      <td>0.07</td>\n",
       "    </tr>\n",
       "    <tr>\n",
       "      <th>4</th>\n",
       "      <td>Biomass</td>\n",
       "      <td>0.06</td>\n",
       "    </tr>\n",
       "    <tr>\n",
       "      <th>5</th>\n",
       "      <td>Hydro</td>\n",
       "      <td>0.08</td>\n",
       "    </tr>\n",
       "    <tr>\n",
       "      <th>6</th>\n",
       "      <td>Wind</td>\n",
       "      <td>0.16</td>\n",
       "    </tr>\n",
       "    <tr>\n",
       "      <th>7</th>\n",
       "      <td>Pumped storage</td>\n",
       "      <td>0.03</td>\n",
       "    </tr>\n",
       "    <tr>\n",
       "      <th>8</th>\n",
       "      <td>Interconnector</td>\n",
       "      <td>0.20</td>\n",
       "    </tr>\n",
       "    <tr>\n",
       "      <th>9</th>\n",
       "      <td>Englandconnector</td>\n",
       "      <td>0.20</td>\n",
       "    </tr>\n",
       "    <tr>\n",
       "      <th>10</th>\n",
       "      <td>Weather Dependent</td>\n",
       "      <td>0.00</td>\n",
       "    </tr>\n",
       "    <tr>\n",
       "      <th>11</th>\n",
       "      <td>Excluded</td>\n",
       "      <td>1.00</td>\n",
       "    </tr>\n",
       "  </tbody>\n",
       "</table>\n",
       "</div>"
      ],
      "text/plain": [
       "                 Type  Breakdown Rate\n",
       "0                Coal            0.10\n",
       "1                CCGT            0.06\n",
       "2             Nuclear            0.10\n",
       "3                OCGT            0.07\n",
       "4             Biomass            0.06\n",
       "5               Hydro            0.08\n",
       "6                Wind            0.16\n",
       "7      Pumped storage            0.03\n",
       "8      Interconnector            0.20\n",
       "9    Englandconnector            0.20\n",
       "10  Weather Dependent            0.00\n",
       "11           Excluded            1.00"
      ]
     },
     "execution_count": 14,
     "metadata": {},
     "output_type": "execute_result"
    }
   ],
   "source": [
    "breakdowwn_rate = {\n",
    "    'Coal': 0.1,\n",
    "    'CCGT': 0.06,\n",
    "    'Nuclear': 0.1,\n",
    "    'OCGT': 0.07,\n",
    "    'Biomass': 0.06,\n",
    "    'Hydro': 0.08,\n",
    "    'Wind': 0.16,\n",
    "    'Pumped storage': 0.03, # arbitrary, need to update\n",
    "    'Interconnector': 0.2,\n",
    "    'Englandconnector': 0.2,\n",
    "    'Weather Dependent': 0,\n",
    "    'Excluded': 1\n",
    "}\n",
    "br_csv = pd.DataFrame.from_dict(breakdowwn_rate,orient='index',columns=['Breakdown Rate'])\n",
    "br_csv = br_csv.reset_index().rename(columns = {'index':'Type'})\n",
    "br_csv"
   ]
  },
  {
   "cell_type": "code",
   "execution_count": 15,
   "metadata": {},
   "outputs": [
    {
     "data": {
      "text/html": [
       "<div>\n",
       "<style scoped>\n",
       "    .dataframe tbody tr th:only-of-type {\n",
       "        vertical-align: middle;\n",
       "    }\n",
       "\n",
       "    .dataframe tbody tr th {\n",
       "        vertical-align: top;\n",
       "    }\n",
       "\n",
       "    .dataframe thead th {\n",
       "        text-align: right;\n",
       "    }\n",
       "</style>\n",
       "<table border=\"1\" class=\"dataframe\">\n",
       "  <thead>\n",
       "    <tr style=\"text-align: right;\">\n",
       "      <th></th>\n",
       "      <th>Duration</th>\n",
       "      <th>Breakdown Rate</th>\n",
       "    </tr>\n",
       "  </thead>\n",
       "  <tbody>\n",
       "    <tr>\n",
       "      <th>0</th>\n",
       "      <td>0.5h</td>\n",
       "      <td>0.1789</td>\n",
       "    </tr>\n",
       "    <tr>\n",
       "      <th>1</th>\n",
       "      <td>1.0h</td>\n",
       "      <td>0.3644</td>\n",
       "    </tr>\n",
       "    <tr>\n",
       "      <th>2</th>\n",
       "      <td>1.5h</td>\n",
       "      <td>0.5228</td>\n",
       "    </tr>\n",
       "    <tr>\n",
       "      <th>3</th>\n",
       "      <td>2.0h</td>\n",
       "      <td>0.6479</td>\n",
       "    </tr>\n",
       "    <tr>\n",
       "      <th>4</th>\n",
       "      <td>2.5h</td>\n",
       "      <td>0.7547</td>\n",
       "    </tr>\n",
       "    <tr>\n",
       "      <th>5</th>\n",
       "      <td>3.0h</td>\n",
       "      <td>0.8203</td>\n",
       "    </tr>\n",
       "    <tr>\n",
       "      <th>6</th>\n",
       "      <td>3.5h</td>\n",
       "      <td>0.8575</td>\n",
       "    </tr>\n",
       "    <tr>\n",
       "      <th>7</th>\n",
       "      <td>4.0h</td>\n",
       "      <td>0.9611</td>\n",
       "    </tr>\n",
       "  </tbody>\n",
       "</table>\n",
       "</div>"
      ],
      "text/plain": [
       "  Duration  Breakdown Rate\n",
       "0     0.5h          0.1789\n",
       "1     1.0h          0.3644\n",
       "2     1.5h          0.5228\n",
       "3     2.0h          0.6479\n",
       "4     2.5h          0.7547\n",
       "5     3.0h          0.8203\n",
       "6     3.5h          0.8575\n",
       "7     4.0h          0.9611"
      ]
     },
     "execution_count": 15,
     "metadata": {},
     "output_type": "execute_result"
    }
   ],
   "source": [
    "breakdowwn_rate_battery = {\n",
    "    '0.5h': 0.1789,\n",
    "    '1.0h': 0.3644,\n",
    "    '1.5h': 0.5228,\n",
    "    '2.0h': 0.6479,\n",
    "    '2.5h': 0.7547,\n",
    "    '3.0h': 0.8203,\n",
    "    '3.5h':0.8575,\n",
    "    '4.0h': 0.9611 # 4+h\n",
    "}\n",
    "brb_csv = pd.DataFrame.from_dict(breakdowwn_rate_battery,orient='index',columns=['Breakdown Rate'])\n",
    "brb_csv = brb_csv.reset_index().rename(columns = {'index':'Duration'})\n",
    "brb_csv"
   ]
  },
  {
   "cell_type": "markdown",
   "metadata": {},
   "source": [
    "## De-rate table \n",
    "\n",
    "Reference: https://www.nationalgrideso.com/document/268356/download"
   ]
  },
  {
   "cell_type": "code",
   "execution_count": 16,
   "metadata": {},
   "outputs": [],
   "source": [
    "de_conversion_type = [['Coal', 'Nuclear', 'Oil', 'Wind Offshore', 'Wind Onshore', 'Solar Photovoltaics', 'Large Hydro', 'Small Hydro', 'Anaerobic Digestion', 'EfW Incineration', 'Landfill Gas', 'Sewage Sludge Digestion', 'Shoreline Wave', 'Tidal Barrage and Tidal Stream', 'Biomass (co-firing)', 'Biomass (dedicated)','Pumped Storage Hydroelectric', 'Battery', 'Compressed Air', 'Liquid Air', 'Interconnector', 'Englandconnector', \n",
    "                       'CCS Gas', 'CCS Biomass', 'Hydrogen', 'Unmet Load', 'Tidal lagoon', 'Tidal stream', 'Wave power','Waste'],\n",
    "                      ['Coal', 'Nuclear', 'OCGT', 'Wind', 'Wind', 'Solar', 'Hydro', 'Hydro', 'Waste', 'Waste', 'Waste', 'Waste', 'Marine', 'Marine', 'Biomass', 'Biomass','Pumped storage', 'Battery storage', 'OCGT', 'OCGT', 'Interconnector', 'Interconnector',\n",
    "                       'CCGT', 'Biomass', 'CCGT', 'Excluded', 'Marine', 'Marine', 'Marine','Waste']]"
   ]
  },
  {
   "cell_type": "code",
   "execution_count": 17,
   "metadata": {},
   "outputs": [],
   "source": [
    "de_conversion_type_csv = pd.DataFrame(de_conversion_type).T\n",
    "#bd_conversion_type_csv.to_csv('../data/de_conversion_type.csv',index=False)"
   ]
  },
  {
   "cell_type": "code",
   "execution_count": 18,
   "metadata": {},
   "outputs": [
    {
     "data": {
      "text/html": [
       "<div>\n",
       "<style scoped>\n",
       "    .dataframe tbody tr th:only-of-type {\n",
       "        vertical-align: middle;\n",
       "    }\n",
       "\n",
       "    .dataframe tbody tr th {\n",
       "        vertical-align: top;\n",
       "    }\n",
       "\n",
       "    .dataframe thead th {\n",
       "        text-align: right;\n",
       "    }\n",
       "</style>\n",
       "<table border=\"1\" class=\"dataframe\">\n",
       "  <thead>\n",
       "    <tr style=\"text-align: right;\">\n",
       "      <th></th>\n",
       "      <th>0</th>\n",
       "      <th>1</th>\n",
       "    </tr>\n",
       "  </thead>\n",
       "  <tbody>\n",
       "    <tr>\n",
       "      <th>0</th>\n",
       "      <td>Coal</td>\n",
       "      <td>Coal</td>\n",
       "    </tr>\n",
       "    <tr>\n",
       "      <th>1</th>\n",
       "      <td>Nuclear</td>\n",
       "      <td>Nuclear</td>\n",
       "    </tr>\n",
       "    <tr>\n",
       "      <th>2</th>\n",
       "      <td>Oil</td>\n",
       "      <td>OCGT</td>\n",
       "    </tr>\n",
       "    <tr>\n",
       "      <th>3</th>\n",
       "      <td>Wind Offshore</td>\n",
       "      <td>Wind</td>\n",
       "    </tr>\n",
       "    <tr>\n",
       "      <th>4</th>\n",
       "      <td>Wind Onshore</td>\n",
       "      <td>Wind</td>\n",
       "    </tr>\n",
       "    <tr>\n",
       "      <th>5</th>\n",
       "      <td>Solar Photovoltaics</td>\n",
       "      <td>Solar</td>\n",
       "    </tr>\n",
       "    <tr>\n",
       "      <th>6</th>\n",
       "      <td>Large Hydro</td>\n",
       "      <td>Hydro</td>\n",
       "    </tr>\n",
       "    <tr>\n",
       "      <th>7</th>\n",
       "      <td>Small Hydro</td>\n",
       "      <td>Hydro</td>\n",
       "    </tr>\n",
       "    <tr>\n",
       "      <th>8</th>\n",
       "      <td>Anaerobic Digestion</td>\n",
       "      <td>Waste</td>\n",
       "    </tr>\n",
       "    <tr>\n",
       "      <th>9</th>\n",
       "      <td>EfW Incineration</td>\n",
       "      <td>Waste</td>\n",
       "    </tr>\n",
       "    <tr>\n",
       "      <th>10</th>\n",
       "      <td>Landfill Gas</td>\n",
       "      <td>Waste</td>\n",
       "    </tr>\n",
       "    <tr>\n",
       "      <th>11</th>\n",
       "      <td>Sewage Sludge Digestion</td>\n",
       "      <td>Waste</td>\n",
       "    </tr>\n",
       "    <tr>\n",
       "      <th>12</th>\n",
       "      <td>Shoreline Wave</td>\n",
       "      <td>Marine</td>\n",
       "    </tr>\n",
       "    <tr>\n",
       "      <th>13</th>\n",
       "      <td>Tidal Barrage and Tidal Stream</td>\n",
       "      <td>Marine</td>\n",
       "    </tr>\n",
       "    <tr>\n",
       "      <th>14</th>\n",
       "      <td>Biomass (co-firing)</td>\n",
       "      <td>Biomass</td>\n",
       "    </tr>\n",
       "    <tr>\n",
       "      <th>15</th>\n",
       "      <td>Biomass (dedicated)</td>\n",
       "      <td>Biomass</td>\n",
       "    </tr>\n",
       "    <tr>\n",
       "      <th>16</th>\n",
       "      <td>Pumped Storage Hydroelectric</td>\n",
       "      <td>Pumped storage</td>\n",
       "    </tr>\n",
       "    <tr>\n",
       "      <th>17</th>\n",
       "      <td>Battery</td>\n",
       "      <td>Battery storage</td>\n",
       "    </tr>\n",
       "    <tr>\n",
       "      <th>18</th>\n",
       "      <td>Compressed Air</td>\n",
       "      <td>OCGT</td>\n",
       "    </tr>\n",
       "    <tr>\n",
       "      <th>19</th>\n",
       "      <td>Liquid Air</td>\n",
       "      <td>OCGT</td>\n",
       "    </tr>\n",
       "    <tr>\n",
       "      <th>20</th>\n",
       "      <td>Interconnector</td>\n",
       "      <td>Interconnector</td>\n",
       "    </tr>\n",
       "    <tr>\n",
       "      <th>21</th>\n",
       "      <td>Englandconnector</td>\n",
       "      <td>Interconnector</td>\n",
       "    </tr>\n",
       "    <tr>\n",
       "      <th>22</th>\n",
       "      <td>CCS Gas</td>\n",
       "      <td>CCGT</td>\n",
       "    </tr>\n",
       "    <tr>\n",
       "      <th>23</th>\n",
       "      <td>CCS Biomass</td>\n",
       "      <td>Biomass</td>\n",
       "    </tr>\n",
       "    <tr>\n",
       "      <th>24</th>\n",
       "      <td>Hydrogen</td>\n",
       "      <td>CCGT</td>\n",
       "    </tr>\n",
       "    <tr>\n",
       "      <th>25</th>\n",
       "      <td>Unmet Load</td>\n",
       "      <td>Excluded</td>\n",
       "    </tr>\n",
       "    <tr>\n",
       "      <th>26</th>\n",
       "      <td>Tidal lagoon</td>\n",
       "      <td>Marine</td>\n",
       "    </tr>\n",
       "    <tr>\n",
       "      <th>27</th>\n",
       "      <td>Tidal stream</td>\n",
       "      <td>Marine</td>\n",
       "    </tr>\n",
       "    <tr>\n",
       "      <th>28</th>\n",
       "      <td>Wave power</td>\n",
       "      <td>Marine</td>\n",
       "    </tr>\n",
       "    <tr>\n",
       "      <th>29</th>\n",
       "      <td>Waste</td>\n",
       "      <td>Waste</td>\n",
       "    </tr>\n",
       "  </tbody>\n",
       "</table>\n",
       "</div>"
      ],
      "text/plain": [
       "                                 0                1\n",
       "0                             Coal             Coal\n",
       "1                          Nuclear          Nuclear\n",
       "2                              Oil             OCGT\n",
       "3                    Wind Offshore             Wind\n",
       "4                     Wind Onshore             Wind\n",
       "5              Solar Photovoltaics            Solar\n",
       "6                      Large Hydro            Hydro\n",
       "7                      Small Hydro            Hydro\n",
       "8              Anaerobic Digestion            Waste\n",
       "9                 EfW Incineration            Waste\n",
       "10                    Landfill Gas            Waste\n",
       "11         Sewage Sludge Digestion            Waste\n",
       "12                  Shoreline Wave           Marine\n",
       "13  Tidal Barrage and Tidal Stream           Marine\n",
       "14             Biomass (co-firing)          Biomass\n",
       "15             Biomass (dedicated)          Biomass\n",
       "16    Pumped Storage Hydroelectric   Pumped storage\n",
       "17                         Battery  Battery storage\n",
       "18                  Compressed Air             OCGT\n",
       "19                      Liquid Air             OCGT\n",
       "20                  Interconnector   Interconnector\n",
       "21                Englandconnector   Interconnector\n",
       "22                         CCS Gas             CCGT\n",
       "23                     CCS Biomass          Biomass\n",
       "24                        Hydrogen             CCGT\n",
       "25                      Unmet Load         Excluded\n",
       "26                    Tidal lagoon           Marine\n",
       "27                    Tidal stream           Marine\n",
       "28                      Wave power           Marine\n",
       "29                           Waste            Waste"
      ]
     },
     "execution_count": 18,
     "metadata": {},
     "output_type": "execute_result"
    }
   ],
   "source": [
    "de_conversion_type_csv"
   ]
  },
  {
   "cell_type": "code",
   "execution_count": 19,
   "metadata": {},
   "outputs": [
    {
     "data": {
      "text/html": [
       "<div>\n",
       "<style scoped>\n",
       "    .dataframe tbody tr th:only-of-type {\n",
       "        vertical-align: middle;\n",
       "    }\n",
       "\n",
       "    .dataframe tbody tr th {\n",
       "        vertical-align: top;\n",
       "    }\n",
       "\n",
       "    .dataframe thead th {\n",
       "        text-align: right;\n",
       "    }\n",
       "</style>\n",
       "<table border=\"1\" class=\"dataframe\">\n",
       "  <thead>\n",
       "    <tr style=\"text-align: right;\">\n",
       "      <th></th>\n",
       "      <th>Type</th>\n",
       "      <th>De-Rate</th>\n",
       "    </tr>\n",
       "  </thead>\n",
       "  <tbody>\n",
       "    <tr>\n",
       "      <th>0</th>\n",
       "      <td>Biomass</td>\n",
       "      <td>0.880</td>\n",
       "    </tr>\n",
       "    <tr>\n",
       "      <th>1</th>\n",
       "      <td>Waste</td>\n",
       "      <td>0.745</td>\n",
       "    </tr>\n",
       "    <tr>\n",
       "      <th>2</th>\n",
       "      <td>Coal</td>\n",
       "      <td>0.760</td>\n",
       "    </tr>\n",
       "    <tr>\n",
       "      <th>3</th>\n",
       "      <td>CCGT</td>\n",
       "      <td>0.913</td>\n",
       "    </tr>\n",
       "    <tr>\n",
       "      <th>4</th>\n",
       "      <td>OCGT</td>\n",
       "      <td>0.952</td>\n",
       "    </tr>\n",
       "    <tr>\n",
       "      <th>5</th>\n",
       "      <td>Nuclear</td>\n",
       "      <td>0.744</td>\n",
       "    </tr>\n",
       "    <tr>\n",
       "      <th>6</th>\n",
       "      <td>Battery storage</td>\n",
       "      <td>0.597</td>\n",
       "    </tr>\n",
       "    <tr>\n",
       "      <th>7</th>\n",
       "      <td>Pumped storage</td>\n",
       "      <td>0.952</td>\n",
       "    </tr>\n",
       "    <tr>\n",
       "      <th>8</th>\n",
       "      <td>Hydro</td>\n",
       "      <td>0.911</td>\n",
       "    </tr>\n",
       "    <tr>\n",
       "      <th>9</th>\n",
       "      <td>Solar</td>\n",
       "      <td>0.022</td>\n",
       "    </tr>\n",
       "    <tr>\n",
       "      <th>10</th>\n",
       "      <td>Marine</td>\n",
       "      <td>0.220</td>\n",
       "    </tr>\n",
       "    <tr>\n",
       "      <th>11</th>\n",
       "      <td>Wind</td>\n",
       "      <td>0.174</td>\n",
       "    </tr>\n",
       "    <tr>\n",
       "      <th>12</th>\n",
       "      <td>DSR</td>\n",
       "      <td>0.715</td>\n",
       "    </tr>\n",
       "    <tr>\n",
       "      <th>13</th>\n",
       "      <td>Interconnector</td>\n",
       "      <td>0.099</td>\n",
       "    </tr>\n",
       "    <tr>\n",
       "      <th>14</th>\n",
       "      <td>Excluded</td>\n",
       "      <td>0.000</td>\n",
       "    </tr>\n",
       "  </tbody>\n",
       "</table>\n",
       "</div>"
      ],
      "text/plain": [
       "               Type  De-Rate\n",
       "0           Biomass    0.880\n",
       "1             Waste    0.745\n",
       "2              Coal    0.760\n",
       "3              CCGT    0.913\n",
       "4              OCGT    0.952\n",
       "5           Nuclear    0.744\n",
       "6   Battery storage    0.597\n",
       "7    Pumped storage    0.952\n",
       "8             Hydro    0.911\n",
       "9             Solar    0.022\n",
       "10           Marine    0.220\n",
       "11             Wind    0.174\n",
       "12              DSR    0.715\n",
       "13   Interconnector    0.099\n",
       "14         Excluded    0.000"
      ]
     },
     "execution_count": 19,
     "metadata": {},
     "output_type": "execute_result"
    }
   ],
   "source": [
    "de_rate = {\n",
    "    'Biomass': 0.88,\n",
    "    'Waste': 0.745, # average for various\n",
    "    'Coal': 0.76,\n",
    "    'CCGT': 0.913, # CHP/cogeneration \n",
    "    'OCGT': 0.952, # gas & diesel reciprocating engines\n",
    "    'Nuclear': 0.744,\n",
    "    'Battery storage': 0.597,\n",
    "    'Pumped storage': 0.952,\n",
    "    'Hydro': 0.911,\n",
    "    'Solar': 0.022,\n",
    "    'Marine': 0.22,\n",
    "    'Wind': 0.174, #offshore & onshore\n",
    "    'DSR': 0.715,\n",
    "    'Interconnector': 0.099,\n",
    "    'Excluded': 0\n",
    "}\n",
    "de_csv = pd.DataFrame.from_dict(de_rate,orient='index',columns=['De-Rate'])\n",
    "de_csv = de_csv.reset_index().rename(columns = {'index':'Type'})\n",
    "de_csv"
   ]
  },
  {
   "cell_type": "code",
   "execution_count": 20,
   "metadata": {},
   "outputs": [],
   "source": [
    "# this just provide a option to read breakdown rate table from a .csv file, \n",
    "# rather than hard-coded in the notebook\n",
    "import os\n",
    "if not os.path.exists('../data/LOLE'):\n",
    "    os.makedirs('../data/LOLE')\n",
    "bd_conversion_type_csv.to_csv('../data/LOLE/bd_conversion_type.csv',index=False)\n",
    "br_csv.to_csv('../data/LOLE/breakdown_rate.csv',index=False)\n",
    "brb_csv.to_csv('../data/LOLE/breakdowwn_rate_battery.csv',index=False)\n",
    "de_conversion_type_csv.to_csv('../data/LOLE/de_conversion_type.csv',index=False)\n",
    "de_csv.to_csv('../data/LOLE/de_rate.csv',index=False)"
   ]
  },
  {
   "cell_type": "code",
   "execution_count": 21,
   "metadata": {},
   "outputs": [],
   "source": [
    "system_reserve_requirment = 1200 #MW, from NG winter outlook 2022"
   ]
  },
  {
   "cell_type": "markdown",
   "metadata": {},
   "source": [
    "## Calculate system margin, LOLP and LOLE"
   ]
  },
  {
   "cell_type": "code",
   "execution_count": 22,
   "metadata": {},
   "outputs": [],
   "source": [
    "def get_rate(row, name_list, carrier, conversion_dict, power_stations, breakdown_rate, breakdowwn_rate_battery=None, storage_units= None):\n",
    "    for i in range(len(carrier)):\n",
    "        # if row[i] != [0]: only running stations\n",
    "        name = name_list[i]\n",
    "        fuel_type = convert_type(name, carrier, conversion_dict, power_stations)\n",
    "        if fuel_type != 'Battery':\n",
    "            rate = breakdown_rate[fuel_type]\n",
    "        else:\n",
    "            max_hours = storage_units[storage_units.index == name]['max_hours'].tolist()[0]\n",
    "            max_hours = np.rint(max_hours * 2) / 2\n",
    "            max_hours = min(max_hours, 4)\n",
    "            rate = breakdowwn_rate_battery[str(max_hours) + 'h']        \n",
    "        row[i] = rate\n",
    "    return row"
   ]
  },
  {
   "cell_type": "code",
   "execution_count": 23,
   "metadata": {},
   "outputs": [],
   "source": [
    "def convert_type(name, carrier, conversion_dict, power_stations):\n",
    "    type0 = carrier[name]\n",
    "    try:\n",
    "        type1 = conversion_dict[type0]\n",
    "    except:\n",
    "        if type0 == 'Natural Gas':\n",
    "            type1 = power_stations[power_stations['Station Name']==name]['Technology'].tolist()[0]\n",
    "        else:\n",
    "            type1 = 'Excluded'\n",
    "#             if 'new_type_list' not in globals():\n",
    "#                 global new_type_list\n",
    "#                 new_type_list = list()\n",
    "#             if type0 not in new_type_list:\n",
    "#                 new_type_list.append(type0)\n",
    "            print('Do not have break downrate for type ' + type0)\n",
    "    return type1"
   ]
  },
  {
   "cell_type": "code",
   "execution_count": 24,
   "metadata": {},
   "outputs": [
    {
     "data": {
      "text/plain": [
       "{'0.5h': 0.1789,\n",
       " '1.0h': 0.3644,\n",
       " '1.5h': 0.5228,\n",
       " '2.0h': 0.6479,\n",
       " '2.5h': 0.7547,\n",
       " '3.0h': 0.8203,\n",
       " '3.5h': 0.8575,\n",
       " '4.0h': 0.9611}"
      ]
     },
     "execution_count": 24,
     "metadata": {},
     "output_type": "execute_result"
    }
   ],
   "source": [
    "breakdowwn_rate_battery = pd.read_csv('../data/LOLE/breakdowwn_rate_battery.csv',index_col=0)\n",
    "breakdowwn_rate_battery = breakdowwn_rate_battery.to_dict()['Breakdown Rate']\n",
    "breakdowwn_rate_battery"
   ]
  },
  {
   "cell_type": "code",
   "execution_count": 25,
   "metadata": {},
   "outputs": [],
   "source": [
    "breakdown_rate = pd.read_csv('../data/LOLE/breakdown_rate.csv',index_col=0)"
   ]
  },
  {
   "cell_type": "code",
   "execution_count": 26,
   "metadata": {},
   "outputs": [],
   "source": [
    "breakdowwn_rate_battery = pd.read_csv('../data/LOLE/breakdowwn_rate_battery.csv',index_col=0)"
   ]
  },
  {
   "cell_type": "code",
   "execution_count": 27,
   "metadata": {},
   "outputs": [
    {
     "data": {
      "text/html": [
       "<div>\n",
       "<style scoped>\n",
       "    .dataframe tbody tr th:only-of-type {\n",
       "        vertical-align: middle;\n",
       "    }\n",
       "\n",
       "    .dataframe tbody tr th {\n",
       "        vertical-align: top;\n",
       "    }\n",
       "\n",
       "    .dataframe thead th {\n",
       "        text-align: right;\n",
       "    }\n",
       "</style>\n",
       "<table border=\"1\" class=\"dataframe\">\n",
       "  <thead>\n",
       "    <tr style=\"text-align: right;\">\n",
       "      <th></th>\n",
       "      <th>Breakdown Rate</th>\n",
       "    </tr>\n",
       "    <tr>\n",
       "      <th>Duration</th>\n",
       "      <th></th>\n",
       "    </tr>\n",
       "  </thead>\n",
       "  <tbody>\n",
       "    <tr>\n",
       "      <th>0.5h</th>\n",
       "      <td>0.1789</td>\n",
       "    </tr>\n",
       "    <tr>\n",
       "      <th>1.0h</th>\n",
       "      <td>0.3644</td>\n",
       "    </tr>\n",
       "    <tr>\n",
       "      <th>1.5h</th>\n",
       "      <td>0.5228</td>\n",
       "    </tr>\n",
       "    <tr>\n",
       "      <th>2.0h</th>\n",
       "      <td>0.6479</td>\n",
       "    </tr>\n",
       "    <tr>\n",
       "      <th>2.5h</th>\n",
       "      <td>0.7547</td>\n",
       "    </tr>\n",
       "    <tr>\n",
       "      <th>3.0h</th>\n",
       "      <td>0.8203</td>\n",
       "    </tr>\n",
       "    <tr>\n",
       "      <th>3.5h</th>\n",
       "      <td>0.8575</td>\n",
       "    </tr>\n",
       "    <tr>\n",
       "      <th>4.0h</th>\n",
       "      <td>0.9611</td>\n",
       "    </tr>\n",
       "  </tbody>\n",
       "</table>\n",
       "</div>"
      ],
      "text/plain": [
       "          Breakdown Rate\n",
       "Duration                \n",
       "0.5h              0.1789\n",
       "1.0h              0.3644\n",
       "1.5h              0.5228\n",
       "2.0h              0.6479\n",
       "2.5h              0.7547\n",
       "3.0h              0.8203\n",
       "3.5h              0.8575\n",
       "4.0h              0.9611"
      ]
     },
     "execution_count": 27,
     "metadata": {},
     "output_type": "execute_result"
    }
   ],
   "source": [
    "breakdowwn_rate_battery"
   ]
  },
  {
   "cell_type": "code",
   "execution_count": 28,
   "metadata": {},
   "outputs": [],
   "source": [
    "breakdowwn_rate_battery['Breakdown Rate'] = 1-(1-breakdowwn_rate_battery['Breakdown Rate'])*0"
   ]
  },
  {
   "cell_type": "code",
   "execution_count": 29,
   "metadata": {},
   "outputs": [
    {
     "data": {
      "text/html": [
       "<div>\n",
       "<style scoped>\n",
       "    .dataframe tbody tr th:only-of-type {\n",
       "        vertical-align: middle;\n",
       "    }\n",
       "\n",
       "    .dataframe tbody tr th {\n",
       "        vertical-align: top;\n",
       "    }\n",
       "\n",
       "    .dataframe thead th {\n",
       "        text-align: right;\n",
       "    }\n",
       "</style>\n",
       "<table border=\"1\" class=\"dataframe\">\n",
       "  <thead>\n",
       "    <tr style=\"text-align: right;\">\n",
       "      <th></th>\n",
       "      <th>Breakdown Rate</th>\n",
       "    </tr>\n",
       "    <tr>\n",
       "      <th>Duration</th>\n",
       "      <th></th>\n",
       "    </tr>\n",
       "  </thead>\n",
       "  <tbody>\n",
       "    <tr>\n",
       "      <th>0.5h</th>\n",
       "      <td>1.0</td>\n",
       "    </tr>\n",
       "    <tr>\n",
       "      <th>1.0h</th>\n",
       "      <td>1.0</td>\n",
       "    </tr>\n",
       "    <tr>\n",
       "      <th>1.5h</th>\n",
       "      <td>1.0</td>\n",
       "    </tr>\n",
       "    <tr>\n",
       "      <th>2.0h</th>\n",
       "      <td>1.0</td>\n",
       "    </tr>\n",
       "    <tr>\n",
       "      <th>2.5h</th>\n",
       "      <td>1.0</td>\n",
       "    </tr>\n",
       "    <tr>\n",
       "      <th>3.0h</th>\n",
       "      <td>1.0</td>\n",
       "    </tr>\n",
       "    <tr>\n",
       "      <th>3.5h</th>\n",
       "      <td>1.0</td>\n",
       "    </tr>\n",
       "    <tr>\n",
       "      <th>4.0h</th>\n",
       "      <td>1.0</td>\n",
       "    </tr>\n",
       "  </tbody>\n",
       "</table>\n",
       "</div>"
      ],
      "text/plain": [
       "          Breakdown Rate\n",
       "Duration                \n",
       "0.5h                 1.0\n",
       "1.0h                 1.0\n",
       "1.5h                 1.0\n",
       "2.0h                 1.0\n",
       "2.5h                 1.0\n",
       "3.0h                 1.0\n",
       "3.5h                 1.0\n",
       "4.0h                 1.0"
      ]
     },
     "execution_count": 29,
     "metadata": {},
     "output_type": "execute_result"
    }
   ],
   "source": [
    "breakdowwn_rate_battery"
   ]
  },
  {
   "cell_type": "code",
   "execution_count": 30,
   "metadata": {},
   "outputs": [],
   "source": [
    "#  calculate lolp without running opf/uc\n",
    "def LOLP(network, year, year_baseline=None, failures_type=None, failures_rate=None):\n",
    "    \n",
    "    # rate\n",
    "    if year > 2020:\n",
    "        year = year_baseline\n",
    "    file = '../data/power stations/power_stations_locations_' + str(year) + '.csv'\n",
    "    power_stations = pd.read_csv(file, encoding='unicode_escape')\n",
    "    \n",
    "    bd_conversion_csv = pd.read_csv('../data/LOLE/bd_conversion_type.csv',index_col=0)\n",
    "    bd_conversion_dict = bd_conversion_csv.to_dict()['1']\n",
    "    \n",
    "    \n",
    "    breakdown_rate = pd.read_csv('../data/LOLE/breakdown_rate.csv',index_col=0)\n",
    "    \n",
    "    breakdowwn_rate_battery = pd.read_csv('../data/LOLE/breakdowwn_rate_battery.csv',index_col=0)\n",
    "    \n",
    "    \n",
    "    if (failures_type is not None) and (failures_type is not None):\n",
    "        failures_type = [failures_type]\n",
    "        failures_rate = [failures_rate]\n",
    "        if len(failures_type) != len(failures_rate):\n",
    "            failures_rate = failures_rate * len(failures_type)\n",
    "        for _ in range(len(failures_type)):\n",
    "            generator_type = failures_type[_]\n",
    "            if generator_type != 'Battery':\n",
    "                breakdown_rate.loc[generator_type] = 1 - (1 - breakdown_rate.loc[generator_type]) * failures_rate[_]\n",
    "            else:\n",
    "                breakdowwn_rate_battery['Breakdown Rate'] = 1 - (1-breakdowwn_rate_battery['Breakdown Rate']) * failures_rate[_]\n",
    "            \n",
    "    breakdown_rate = breakdown_rate.to_dict()['Breakdown Rate']\n",
    "    breakdowwn_rate_battery = breakdowwn_rate_battery.to_dict()['Breakdown Rate']\n",
    "    \n",
    "    generators_name_list = network.generators.index.tolist() ##\n",
    "    \n",
    "    #  generator units' breakdown rate time-series dataframe: generators_rate\n",
    "    generators_rate_col = generators_name_list\n",
    "    generators_rate_index = network.snapshots.copy()\n",
    "    generators_rate = pd.DataFrame(columns=generators_rate_col, index=generators_rate_index) \n",
    "    generators_rate.apply(lambda r: get_rate(r, generators_name_list, network.generators.carrier, bd_conversion_dict, power_stations, breakdown_rate), axis = 1)\n",
    "    \n",
    "    # storage units' breakdown rate time-series dataframe: storage_rate\n",
    "    storage_units_name_list = network.storage_units.index.tolist() \n",
    "    storage_units_rate_col = storage_units_name_list\n",
    "    storage_units_rate_index = network.snapshots.copy()\n",
    "    storage_units_rate = pd.DataFrame(columns=storage_units_rate_col, index=storage_units_rate_index) ##\n",
    "    storage_units_rate.apply(lambda r: get_rate(r, storage_units_name_list, network.storage_units.carrier, bd_conversion_dict, power_stations, breakdown_rate, breakdowwn_rate_battery, network.storage_units), axis = 1)\n",
    "    \n",
    "    # all units' breakdown rate\n",
    "    pd_rate = pd.concat([generators_rate, storage_units_rate], axis=1)\n",
    "    # pd_rate2 = pd_rate.copy()\n",
    "    \n",
    "    # caculate time series of weather dependent generators' outputs from input data \n",
    "\n",
    "    pd_stations = pd_rate.copy()\n",
    "    pd_stations_w = pd_stations[network.generators.index.tolist()][(pd_rate == 0)].dropna(axis=1,how='all').fillna(0)\n",
    "    pd_stations[network.generators.p_nom.index] = network.generators.p_nom.values\n",
    "    pd_stations[network.storage_units.p_nom.index] = network.storage_units.p_nom.values\n",
    "    pd_stations[pd_stations_w.columns] = network.generators_t.p_max_pu[pd_stations_w.columns] * network.generators.p_nom[pd_stations_w.columns]\n",
    "\n",
    "    pd_stations_all = pd_stations.copy()\n",
    "    \n",
    "    pd_stations_w = pd_stations[pd_stations_w.columns.tolist()]#[(pd_rate == 0)].dropna(axis=1,how='all').fillna(0)\n",
    "    ## Shoreline Wave, Tidal Barrage and Tidal Stream\n",
    "\n",
    "    pd_stations = pd_stations[(pd_rate < 1) & (pd_rate > 0)].dropna(axis=1,how='all').fillna(0)\n",
    "    \n",
    "    # Note: now, the time series of breakdown rate ONLY include non weather dependent units (i.e. convertional units)\n",
    "    pd_rate = pd_rate[(pd_rate < 1) & (pd_rate > 0)].dropna(axis=1,how='all').fillna(0)\n",
    "    \n",
    "    # net_demand\n",
    "    # calculate net_demand from input data (value is empty)\n",
    "    # net_demand = total demand - renewable (Weather Dependent) output.\n",
    "    net_demand = network.loads_t.p_set.sum(axis=1) - pd_stations_w.sum(axis=1)\n",
    "    \n",
    "    \n",
    "    # non renewable generator units' installed capacity\n",
    "    installed_capacity = pd.concat([network.generators.p_nom, network.storage_units.p_nom], axis=0)[pd_stations.columns].to_numpy()\n",
    "    \n",
    "    return installed_capacity, pd_rate.to_numpy()[0], net_demand, pd_stations_all, pd_stations_w\n",
    "    "
   ]
  },
  {
   "cell_type": "code",
   "execution_count": 31,
   "metadata": {},
   "outputs": [],
   "source": [
    "def Margin(network, pd_stations,year, system_reserve_requirment, year_baseline=None):\n",
    "\n",
    "    # rate\n",
    "    if year > 2020:\n",
    "        year = year_baseline\n",
    "    file = '../data/power stations/power_stations_locations_' + str(year) + '.csv'\n",
    "    power_stations = pd.read_csv(file, encoding='unicode_escape')\n",
    "    \n",
    "    de_conversion_csv = pd.read_csv('../data/LOLE/de_conversion_type.csv',index_col=0)\n",
    "    de_conversion_dict = de_conversion_csv.to_dict()['1']\n",
    "    \n",
    "    de_rate = pd.read_csv('../data/LOLE/de_rate.csv',index_col=0)\n",
    "    de_rate = de_rate.to_dict()['De-Rate']\n",
    "    \n",
    "    generators_name_list = network.generators.index.tolist() ##\n",
    "    \n",
    "    #  generator units' breakdown rate time-series dataframe: generators_rate\n",
    "    generators_rate_col = generators_name_list\n",
    "    generators_rate_index = network.snapshots.copy()\n",
    "    generators_rate = pd.DataFrame(columns=generators_rate_col, index=generators_rate_index) \n",
    "    generators_rate.apply(lambda r: get_rate(r, generators_name_list, network.generators.carrier, de_conversion_dict, power_stations, de_rate), axis = 1)\n",
    "    \n",
    "    # storage units' breakdown rate time-series dataframe: storage_rate\n",
    "    storage_units_name_list = network.storage_units.index.tolist() \n",
    "    storage_units_rate_col = storage_units_name_list\n",
    "    storage_units_rate_index = network.snapshots.copy()\n",
    "    storage_units_rate = pd.DataFrame(columns=storage_units_rate_col, index=storage_units_rate_index) ##\n",
    "    storage_units_rate.apply(lambda r: get_rate(r, storage_units_name_list, network.storage_units.carrier, de_conversion_dict, power_stations, de_rate), axis = 1)\n",
    "    \n",
    "    # all units' breakdown rate\n",
    "    pd_rate = pd.concat([generators_rate, storage_units_rate], axis=1) \n",
    "    \n",
    "    # caculate time series of weather dependent generators' outputs from input data \n",
    "\n",
    "    pd_installed_capacity = pd.concat([network.generators.p_nom, network.storage_units.p_nom], axis=0)\n",
    "    de_rated_capacity = (pd_installed_capacity * pd_rate).sum(axis =1)[0]\n",
    "    margin = de_rated_capacity - network.loads_t.p_set.sum(axis=1) - system_reserve_requirment # reserve\n",
    "    \n",
    "    return de_rated_capacity, margin"
   ]
  },
  {
   "cell_type": "code",
   "execution_count": 32,
   "metadata": {
    "scrolled": true
   },
   "outputs": [],
   "source": [
    "installed_capacity, breakdwon_rate, net_demand, pd_stations_all, pd_stations_w = LOLP(network, year, year_baseline=year_baseline)"
   ]
  },
  {
   "cell_type": "code",
   "execution_count": 33,
   "metadata": {
    "scrolled": true
   },
   "outputs": [],
   "source": [
    "de_rated_capacity, margin = Margin(network, pd_stations_all, year, system_reserve_requirment, year_baseline=year_baseline)"
   ]
  },
  {
   "cell_type": "code",
   "execution_count": 34,
   "metadata": {
    "scrolled": false
   },
   "outputs": [
    {
     "data": {
      "text/plain": [
       "20667.230774420063"
      ]
     },
     "execution_count": 34,
     "metadata": {},
     "output_type": "execute_result"
    }
   ],
   "source": [
    "de_rated_capacity"
   ]
  },
  {
   "cell_type": "code",
   "execution_count": 35,
   "metadata": {
    "scrolled": true
   },
   "outputs": [
    {
     "data": {
      "text/plain": [
       "[<matplotlib.lines.Line2D at 0x149da4db550>]"
      ]
     },
     "execution_count": 35,
     "metadata": {},
     "output_type": "execute_result"
    },
    {
     "data": {
      "image/png": "[encoded data removed]",
      "text/plain": [
       "<Figure size 432x288 with 1 Axes>"
      ]
     },
     "metadata": {},
     "output_type": "display_data"
    }
   ],
   "source": [
    "plt.plot(margin)"
   ]
  },
  {
   "cell_type": "code",
   "execution_count": 36,
   "metadata": {},
   "outputs": [
    {
     "data": {
      "text/plain": [
       "count     8784.000000\n",
       "mean     14444.410738\n",
       "std       1084.114488\n",
       "min      11686.416563\n",
       "25%      13710.624922\n",
       "50%      14534.460185\n",
       "75%      15238.266203\n",
       "max      16475.168185\n",
       "dtype: float64"
      ]
     },
     "execution_count": 36,
     "metadata": {},
     "output_type": "execute_result"
    }
   ],
   "source": [
    "margin.describe()"
   ]
  },
  {
   "cell_type": "code",
   "execution_count": 37,
   "metadata": {},
   "outputs": [
    {
     "data": {
      "text/plain": [
       "count    8784.000000\n",
       "mean     5022.820036\n",
       "std      1084.114488\n",
       "min      2992.062589\n",
       "25%      4228.964572\n",
       "50%      4932.770589\n",
       "75%      5756.605852\n",
       "max      7780.814211\n",
       "dtype: float64"
      ]
     },
     "execution_count": 37,
     "metadata": {},
     "output_type": "execute_result"
    }
   ],
   "source": [
    "network.loads_t.p_set.sum(axis=1).describe()"
   ]
  },
  {
   "cell_type": "code",
   "execution_count": 38,
   "metadata": {
    "scrolled": true
   },
   "outputs": [
    {
     "data": {
      "text/plain": [
       "count     8784.000000\n",
       "mean    -21347.332505\n",
       "std      16006.241155\n",
       "min     -50888.903917\n",
       "25%     -35519.587534\n",
       "50%     -20695.919962\n",
       "75%      -6783.839054\n",
       "max       6043.397444\n",
       "dtype: float64"
      ]
     },
     "execution_count": 38,
     "metadata": {},
     "output_type": "execute_result"
    }
   ],
   "source": [
    "pd.Series(net_demand).describe()"
   ]
  },
  {
   "cell_type": "markdown",
   "metadata": {},
   "source": [
    "Small generator units can be exlcuded from lolp calculation if necessary (i.e. assuming they are not contributing to reliability analysis)"
   ]
  },
  {
   "cell_type": "code",
   "execution_count": 39,
   "metadata": {},
   "outputs": [],
   "source": [
    "def split_generators(installed_capacity, breakdwon_rate, num = None, value = 0, Round = False):\n",
    "    if num == None:\n",
    "        num = installed_capacity.shape[0]\n",
    "    sorted_capacity = np.sort(installed_capacity[installed_capacity >= value])\n",
    "    boundary = sorted_capacity[max(sorted_capacity.shape[0] - num, 0)]\n",
    "    large_capacity = np.copy(installed_capacity[installed_capacity >= boundary])\n",
    "    large_breakdwon_rate = np.copy(breakdwon_rate[installed_capacity >= boundary])\n",
    "    expect_small_capacity = sum(installed_capacity[installed_capacity < boundary] * (1 - breakdwon_rate[installed_capacity < boundary]))\n",
    "    if Round:\n",
    "        large_capacity = np.rint(large_capacity)\n",
    "    print('Number of laege generators: ' + str(large_capacity.shape[0]))\n",
    "    print('Boundary: ' + str(boundary))\n",
    "    \n",
    "    return large_capacity, large_breakdwon_rate, expect_small_capacity"
   ]
  },
  {
   "cell_type": "code",
   "execution_count": 40,
   "metadata": {},
   "outputs": [
    {
     "name": "stdout",
     "output_type": "stream",
     "text": [
      "Number of laege generators: 70\n",
      "Boundary: 0.0\n"
     ]
    }
   ],
   "source": [
    "# exclude any generator small than 50 WM (criteria would be subject to change)\n",
    "large_capacity, large_breakdwon_rate, expect_small_capacity = split_generators(installed_capacity, breakdwon_rate, value = 0, Round=True)"
   ]
  },
  {
   "cell_type": "markdown",
   "metadata": {},
   "source": [
    "## Calculating PDF and CDF of power supply based on breakdown rate"
   ]
  },
  {
   "cell_type": "code",
   "execution_count": 41,
   "metadata": {},
   "outputs": [],
   "source": [
    "def dict_add(A,B):\n",
    "    for key,value in B.items():\n",
    "        try:\n",
    "            A[key] += value\n",
    "        except:\n",
    "            A[key] = value\n",
    "    return A"
   ]
  },
  {
   "cell_type": "code",
   "execution_count": 42,
   "metadata": {},
   "outputs": [],
   "source": [
    "def probability_function(capacity, breakdwon_rate):\n",
    "    pdf = dict()\n",
    "    pdf[0] = 1\n",
    "\n",
    "    for i in range(large_capacity.shape[0]):\n",
    "        prob_down = dict()\n",
    "        prob_up = dict()\n",
    "    \n",
    "        for key,value in pdf.items():\n",
    "            avail_value = np.float64(key)+large_capacity[i]\n",
    "            try:\n",
    "                prob_up[avail_value] += value * (1-large_breakdwon_rate[i])\n",
    "            except:\n",
    "                prob_up[avail_value] = value * (1-large_breakdwon_rate[i])\n",
    "            try:\n",
    "                prob_down[key] += value * large_breakdwon_rate[i]\n",
    "            except:\n",
    "                prob_down[key] = value * large_breakdwon_rate[i]\n",
    "        pdf = dict_add(prob_up,prob_down)\n",
    "    pdf = dict(sorted(pdf.items(),key=lambda d:d[0]))\n",
    "    xx = sorted(pdf)\n",
    "    yy = np.zeros(len(xx))\n",
    "    cdf = np.zeros(len(xx))\n",
    "    cdf_i = 0\n",
    "    for i in range(len(pdf)):\n",
    "        key = xx[i]\n",
    "        yy[i] = pdf[key]\n",
    "        cdf_i += yy[i]\n",
    "        cdf[i] = cdf_i\n",
    "    return xx, yy, pdf, cdf"
   ]
  },
  {
   "cell_type": "code",
   "execution_count": 43,
   "metadata": {},
   "outputs": [],
   "source": [
    "xx, yy, pdf, cdf = probability_function(large_capacity, large_breakdwon_rate)"
   ]
  },
  {
   "cell_type": "markdown",
   "metadata": {},
   "source": [
    "## plot and prettify the PDF of system generation capacity available"
   ]
  },
  {
   "cell_type": "code",
   "execution_count": 44,
   "metadata": {},
   "outputs": [
    {
     "data": {
      "text/plain": [
       "[<matplotlib.lines.Line2D at 0x149da69b4c0>]"
      ]
     },
     "execution_count": 44,
     "metadata": {},
     "output_type": "execute_result"
    },
    {
     "data": {
      "image/png": "[encoded data removed]",
      "text/plain": [
       "<Figure size 432x288 with 1 Axes>"
      ]
     },
     "metadata": {},
     "output_type": "display_data"
    }
   ],
   "source": [
    "plt.plot(xx,yy)"
   ]
  },
  {
   "cell_type": "code",
   "execution_count": 45,
   "metadata": {},
   "outputs": [
    {
     "data": {
      "text/plain": [
       "-21347.332505318638"
      ]
     },
     "execution_count": 45,
     "metadata": {},
     "output_type": "execute_result"
    }
   ],
   "source": [
    "np.mean(net_demand)"
   ]
  },
  {
   "cell_type": "code",
   "execution_count": 46,
   "metadata": {},
   "outputs": [
    {
     "data": {
      "text/plain": [
       "(12969.6, 23777.600000000002)"
      ]
     },
     "execution_count": 46,
     "metadata": {},
     "output_type": "execute_result"
    },
    {
     "data": {
      "image/png": "[encoded data removed]",
      "text/plain": [
       "<Figure size 432x576 with 1 Axes>"
      ]
     },
     "metadata": {},
     "output_type": "display_data"
    }
   ],
   "source": [
    "plt.figure(figsize=(6,8))\n",
    "plt.plot(xx,yy)\n",
    "plt.xlim(max(xx)*.6,max(xx)*1.1)"
   ]
  },
  {
   "cell_type": "code",
   "execution_count": 47,
   "metadata": {},
   "outputs": [],
   "source": [
    "int_x = [round(x/100)*100 for x in xx]"
   ]
  },
  {
   "cell_type": "code",
   "execution_count": 48,
   "metadata": {},
   "outputs": [
    {
     "data": {
      "text/plain": [
       "(12969.6, 23777.600000000002)"
      ]
     },
     "execution_count": 48,
     "metadata": {},
     "output_type": "execute_result"
    },
    {
     "data": {
      "image/png": "[encoded data removed]",
      "text/plain": [
       "<Figure size 432x576 with 1 Axes>"
      ]
     },
     "metadata": {},
     "output_type": "display_data"
    }
   ],
   "source": [
    "plt.figure(figsize=(6,8))\n",
    "plt.plot(int_x,yy)\n",
    "plt.xlim(max(xx)*.6,max(xx)*1.1)"
   ]
  },
  {
   "cell_type": "markdown",
   "metadata": {},
   "source": [
    "## plot CDF of ystem generation capacity available"
   ]
  },
  {
   "cell_type": "code",
   "execution_count": 49,
   "metadata": {},
   "outputs": [
    {
     "data": {
      "text/plain": [
       "[<matplotlib.lines.Line2D at 0x149d9e763d0>]"
      ]
     },
     "execution_count": 49,
     "metadata": {},
     "output_type": "execute_result"
    },
    {
     "data": {
      "image/png": "[encoded data removed]",
      "text/plain": [
       "<Figure size 432x288 with 1 Axes>"
      ]
     },
     "metadata": {},
     "output_type": "display_data"
    }
   ],
   "source": [
    "plt.plot(xx,cdf)"
   ]
  },
  {
   "cell_type": "markdown",
   "metadata": {},
   "source": [
    "## calculating the LOLP at each time step"
   ]
  },
  {
   "cell_type": "code",
   "execution_count": 50,
   "metadata": {},
   "outputs": [],
   "source": [
    "net_demand = network.loads_t.p_set.sum(axis=1) - pd_stations_w.sum(axis=1)"
   ]
  },
  {
   "cell_type": "code",
   "execution_count": 51,
   "metadata": {},
   "outputs": [],
   "source": [
    "lolp = list()\n",
    "for i in range(len(net_demand)):\n",
    "    lolp.append(yy[xx<net_demand[i] - expect_small_capacity + system_reserve_requirment].sum())"
   ]
  },
  {
   "cell_type": "code",
   "execution_count": 52,
   "metadata": {},
   "outputs": [
    {
     "data": {
      "text/plain": [
       "4.4205796040765165e-06"
      ]
     },
     "execution_count": 52,
     "metadata": {},
     "output_type": "execute_result"
    }
   ],
   "source": [
    "lolp = list()\n",
    "for i in range(len(net_demand)):\n",
    "    lolp.append(yy[xx<net_demand[i] - expect_small_capacity + system_reserve_requirment].sum())\n",
    "sum(lolp)"
   ]
  },
  {
   "cell_type": "code",
   "execution_count": 53,
   "metadata": {},
   "outputs": [
    {
     "data": {
      "text/plain": [
       "array([4.94119970e-19, 6.14668724e-14, 1.45407469e-12, ...,\n",
       "       4.15082007e-11, 1.08288184e-12, 4.09515139e-19])"
      ]
     },
     "execution_count": 53,
     "metadata": {},
     "output_type": "execute_result"
    }
   ],
   "source": [
    "np.array(lolp)[np.array(lolp)>0]"
   ]
  },
  {
   "cell_type": "code",
   "execution_count": 54,
   "metadata": {},
   "outputs": [
    {
     "data": {
      "text/plain": [
       "7683"
      ]
     },
     "execution_count": 54,
     "metadata": {},
     "output_type": "execute_result"
    }
   ],
   "source": [
    "sum(np.array(lolp)==0)"
   ]
  },
  {
   "cell_type": "code",
   "execution_count": 55,
   "metadata": {},
   "outputs": [
    {
     "data": {
      "text/plain": [
       "Timestamp('2040-03-20 16:00:00')"
      ]
     },
     "execution_count": 55,
     "metadata": {},
     "output_type": "execute_result"
    }
   ],
   "source": [
    "# lolp_min = np.where(lolp == min(lolp))\n",
    "lolp_min = np.where(lolp == min(np.array(lolp)[np.array(lolp)>0]))\n",
    "network.snapshots[lolp_min[0][0]]"
   ]
  },
  {
   "cell_type": "code",
   "execution_count": 56,
   "metadata": {},
   "outputs": [
    {
     "data": {
      "text/plain": [
       "Timestamp('2040-12-03 16:00:00')"
      ]
     },
     "execution_count": 56,
     "metadata": {},
     "output_type": "execute_result"
    }
   ],
   "source": [
    "lolp_max = np.where(lolp == max(lolp))\n",
    "network.snapshots[lolp_max[0][0]]"
   ]
  },
  {
   "cell_type": "markdown",
   "metadata": {},
   "source": [
    "## calculating the LOLE over the whole period"
   ]
  },
  {
   "cell_type": "code",
   "execution_count": 57,
   "metadata": {
    "scrolled": true
   },
   "outputs": [
    {
     "name": "stdout",
     "output_type": "stream",
     "text": [
      "the loss load expectation (LOLE) for the considered period are 4.4205796040765165e-06 hours; the current UK regulation for LOLE is below 3 hours per year\n"
     ]
    }
   ],
   "source": [
    "lole = sum(lolp)\n",
    "print(f'the loss load expectation (LOLE) for the considered period are {lole} hours; the current UK regulation for LOLE is below 3 hours per year')"
   ]
  },
  {
   "cell_type": "code",
   "execution_count": null,
   "metadata": {},
   "outputs": [],
   "source": []
  },
  {
   "cell_type": "markdown",
   "metadata": {},
   "source": [
    "## plot"
   ]
  },
  {
   "cell_type": "code",
   "execution_count": 58,
   "metadata": {},
   "outputs": [],
   "source": [
    "plot_data = pd.DataFrame()\n",
    "plot_data.index = network.snapshots\n",
    "plot_data['demand'] = net_demand\n",
    "plot_data['lolp'] = lolp"
   ]
  },
  {
   "cell_type": "code",
   "execution_count": 59,
   "metadata": {},
   "outputs": [
    {
     "data": {
      "text/plain": [
       "[<matplotlib.lines.Line2D at 0x149dbd72280>]"
      ]
     },
     "execution_count": 59,
     "metadata": {},
     "output_type": "execute_result"
    },
    {
     "data": {
      "image/png": "[encoded data removed]",
      "text/plain": [
       "<Figure size 432x288 with 1 Axes>"
      ]
     },
     "metadata": {},
     "output_type": "display_data"
    }
   ],
   "source": [
    "plt.plot(plot_data['demand'])"
   ]
  },
  {
   "cell_type": "code",
   "execution_count": 60,
   "metadata": {},
   "outputs": [],
   "source": [
    "lolp_month = list()\n",
    "for m in range(1,13):\n",
    "    month_data = plot_data[plot_data.index.month == m]\n",
    "    lolp_month.append(month_data['lolp'].tolist())"
   ]
  },
  {
   "cell_type": "code",
   "execution_count": 61,
   "metadata": {},
   "outputs": [
    {
     "data": {
      "text/plain": [
       "{'whiskers': [<matplotlib.lines.Line2D at 0x149d8eb2640>,\n",
       "  <matplotlib.lines.Line2D at 0x149d8eb2910>,\n",
       "  <matplotlib.lines.Line2D at 0x149d8ec0a60>,\n",
       "  <matplotlib.lines.Line2D at 0x149d8ec0d30>,\n",
       "  <matplotlib.lines.Line2D at 0x149d8ecbe50>,\n",
       "  <matplotlib.lines.Line2D at 0x149d8ed9160>,\n",
       "  <matplotlib.lines.Line2D at 0x149d8ee22b0>,\n",
       "  <matplotlib.lines.Line2D at 0x149d8ee2580>,\n",
       "  <matplotlib.lines.Line2D at 0x149d8ef2700>,\n",
       "  <matplotlib.lines.Line2D at 0x149d8ef29d0>,\n",
       "  <matplotlib.lines.Line2D at 0x149d8efcaf0>,\n",
       "  <matplotlib.lines.Line2D at 0x149d8efcdc0>,\n",
       "  <matplotlib.lines.Line2D at 0x149d8f06ee0>,\n",
       "  <matplotlib.lines.Line2D at 0x149d99741f0>,\n",
       "  <matplotlib.lines.Line2D at 0x149d997e310>,\n",
       "  <matplotlib.lines.Line2D at 0x149d997e5e0>,\n",
       "  <matplotlib.lines.Line2D at 0x149d998d700>,\n",
       "  <matplotlib.lines.Line2D at 0x149d998d9d0>,\n",
       "  <matplotlib.lines.Line2D at 0x149d9998af0>,\n",
       "  <matplotlib.lines.Line2D at 0x149d9998dc0>,\n",
       "  <matplotlib.lines.Line2D at 0x149d99a2ee0>,\n",
       "  <matplotlib.lines.Line2D at 0x149d99b01f0>,\n",
       "  <matplotlib.lines.Line2D at 0x149d99b8310>,\n",
       "  <matplotlib.lines.Line2D at 0x149d99b85e0>],\n",
       " 'caps': [<matplotlib.lines.Line2D at 0x149d8eb2be0>,\n",
       "  <matplotlib.lines.Line2D at 0x149d8eb2eb0>,\n",
       "  <matplotlib.lines.Line2D at 0x149d8ecb040>,\n",
       "  <matplotlib.lines.Line2D at 0x149d8ecb310>,\n",
       "  <matplotlib.lines.Line2D at 0x149d8ed9430>,\n",
       "  <matplotlib.lines.Line2D at 0x149d8ed9700>,\n",
       "  <matplotlib.lines.Line2D at 0x149d8ee2850>,\n",
       "  <matplotlib.lines.Line2D at 0x149d8ee2b20>,\n",
       "  <matplotlib.lines.Line2D at 0x149d8ef2ca0>,\n",
       "  <matplotlib.lines.Line2D at 0x149d8ef2f70>,\n",
       "  <matplotlib.lines.Line2D at 0x149d8f060d0>,\n",
       "  <matplotlib.lines.Line2D at 0x149d8f063a0>,\n",
       "  <matplotlib.lines.Line2D at 0x149d99744c0>,\n",
       "  <matplotlib.lines.Line2D at 0x149d9974790>,\n",
       "  <matplotlib.lines.Line2D at 0x149d997e8b0>,\n",
       "  <matplotlib.lines.Line2D at 0x149d997eb80>,\n",
       "  <matplotlib.lines.Line2D at 0x149d998dca0>,\n",
       "  <matplotlib.lines.Line2D at 0x149d998df70>,\n",
       "  <matplotlib.lines.Line2D at 0x149d99a20d0>,\n",
       "  <matplotlib.lines.Line2D at 0x149d99a23a0>,\n",
       "  <matplotlib.lines.Line2D at 0x149d99b04c0>,\n",
       "  <matplotlib.lines.Line2D at 0x149d99b0790>,\n",
       "  <matplotlib.lines.Line2D at 0x149d99b88b0>,\n",
       "  <matplotlib.lines.Line2D at 0x149d99b8b80>],\n",
       " 'boxes': [<matplotlib.lines.Line2D at 0x149d8eb2370>,\n",
       "  <matplotlib.lines.Line2D at 0x149d8ec0790>,\n",
       "  <matplotlib.lines.Line2D at 0x149d8ecbb80>,\n",
       "  <matplotlib.lines.Line2D at 0x149d8ed9fa0>,\n",
       "  <matplotlib.lines.Line2D at 0x149d8ef2400>,\n",
       "  <matplotlib.lines.Line2D at 0x149d8efc820>,\n",
       "  <matplotlib.lines.Line2D at 0x149d8f06c10>,\n",
       "  <matplotlib.lines.Line2D at 0x149d997e040>,\n",
       "  <matplotlib.lines.Line2D at 0x149d998d430>,\n",
       "  <matplotlib.lines.Line2D at 0x149d9998820>,\n",
       "  <matplotlib.lines.Line2D at 0x149d99a2c10>,\n",
       "  <matplotlib.lines.Line2D at 0x149d99b8040>],\n",
       " 'medians': [<matplotlib.lines.Line2D at 0x149d8ec01c0>,\n",
       "  <matplotlib.lines.Line2D at 0x149d8ecb5e0>,\n",
       "  <matplotlib.lines.Line2D at 0x149d8ed99d0>,\n",
       "  <matplotlib.lines.Line2D at 0x149d8ee2df0>,\n",
       "  <matplotlib.lines.Line2D at 0x149d8efc280>,\n",
       "  <matplotlib.lines.Line2D at 0x149d8f06670>,\n",
       "  <matplotlib.lines.Line2D at 0x149d9974a60>,\n",
       "  <matplotlib.lines.Line2D at 0x149d997ee50>,\n",
       "  <matplotlib.lines.Line2D at 0x149d9998280>,\n",
       "  <matplotlib.lines.Line2D at 0x149d99a2670>,\n",
       "  <matplotlib.lines.Line2D at 0x149d99b0a60>,\n",
       "  <matplotlib.lines.Line2D at 0x149d99b8e50>],\n",
       " 'fliers': [<matplotlib.lines.Line2D at 0x149d8ec0490>,\n",
       "  <matplotlib.lines.Line2D at 0x149d8ecb8b0>,\n",
       "  <matplotlib.lines.Line2D at 0x149d8ed9cd0>,\n",
       "  <matplotlib.lines.Line2D at 0x149d8ef2100>,\n",
       "  <matplotlib.lines.Line2D at 0x149d8efc550>,\n",
       "  <matplotlib.lines.Line2D at 0x149d8f06940>,\n",
       "  <matplotlib.lines.Line2D at 0x149d9974d30>,\n",
       "  <matplotlib.lines.Line2D at 0x149d998d160>,\n",
       "  <matplotlib.lines.Line2D at 0x149d9998550>,\n",
       "  <matplotlib.lines.Line2D at 0x149d99a2940>,\n",
       "  <matplotlib.lines.Line2D at 0x149d99b0d30>,\n",
       "  <matplotlib.lines.Line2D at 0x149d99c9160>],\n",
       " 'means': []}"
      ]
     },
     "execution_count": 61,
     "metadata": {},
     "output_type": "execute_result"
    },
    {
     "data": {
      "image/png": "[encoded data removed]",
      "text/plain": [
       "<Figure size 432x288 with 1 Axes>"
      ]
     },
     "metadata": {},
     "output_type": "display_data"
    }
   ],
   "source": [
    "plt.boxplot(lolp_month)"
   ]
  },
  {
   "cell_type": "code",
   "execution_count": 62,
   "metadata": {},
   "outputs": [],
   "source": [
    "lolp_hour = list()\n",
    "for h in range(24):\n",
    "    hour_data = plot_data[plot_data.index.hour == h]\n",
    "    lolp_hour.append(hour_data['lolp'].mean())"
   ]
  },
  {
   "cell_type": "code",
   "execution_count": 63,
   "metadata": {},
   "outputs": [
    {
     "data": {
      "text/plain": [
       "([<matplotlib.axis.XTick at 0x149d9a25dc0>,\n",
       "  <matplotlib.axis.XTick at 0x149d9a25d90>,\n",
       "  <matplotlib.axis.XTick at 0x149d9a254c0>,\n",
       "  <matplotlib.axis.XTick at 0x149d9a53a60>,\n",
       "  <matplotlib.axis.XTick at 0x149d9a5b1f0>,\n",
       "  <matplotlib.axis.XTick at 0x149d9a5b940>,\n",
       "  <matplotlib.axis.XTick at 0x149d9a620d0>,\n",
       "  <matplotlib.axis.XTick at 0x149d9a5bd30>,\n",
       "  <matplotlib.axis.XTick at 0x149d9a53d00>,\n",
       "  <matplotlib.axis.XTick at 0x149d9a62a60>,\n",
       "  <matplotlib.axis.XTick at 0x149d9a681f0>,\n",
       "  <matplotlib.axis.XTick at 0x149d9a68940>,\n",
       "  <matplotlib.axis.XTick at 0x149d9a6f0d0>,\n",
       "  <matplotlib.axis.XTick at 0x149d9a6f820>,\n",
       "  <matplotlib.axis.XTick at 0x149d9a68a00>,\n",
       "  <matplotlib.axis.XTick at 0x149d9a53580>,\n",
       "  <matplotlib.axis.XTick at 0x149d9a6f190>,\n",
       "  <matplotlib.axis.XTick at 0x149d9a784c0>,\n",
       "  <matplotlib.axis.XTick at 0x149d9a78c10>,\n",
       "  <matplotlib.axis.XTick at 0x149d9a7d3a0>,\n",
       "  <matplotlib.axis.XTick at 0x149d9a7daf0>,\n",
       "  <matplotlib.axis.XTick at 0x149d9a78730>,\n",
       "  <matplotlib.axis.XTick at 0x149d9a684c0>,\n",
       "  <matplotlib.axis.XTick at 0x149d9a85040>],\n",
       " [Text(0, 0, ''),\n",
       "  Text(0, 0, ''),\n",
       "  Text(0, 0, ''),\n",
       "  Text(0, 0, ''),\n",
       "  Text(0, 0, ''),\n",
       "  Text(0, 0, ''),\n",
       "  Text(0, 0, ''),\n",
       "  Text(0, 0, ''),\n",
       "  Text(0, 0, ''),\n",
       "  Text(0, 0, ''),\n",
       "  Text(0, 0, ''),\n",
       "  Text(0, 0, ''),\n",
       "  Text(0, 0, ''),\n",
       "  Text(0, 0, ''),\n",
       "  Text(0, 0, ''),\n",
       "  Text(0, 0, ''),\n",
       "  Text(0, 0, ''),\n",
       "  Text(0, 0, ''),\n",
       "  Text(0, 0, ''),\n",
       "  Text(0, 0, ''),\n",
       "  Text(0, 0, ''),\n",
       "  Text(0, 0, ''),\n",
       "  Text(0, 0, ''),\n",
       "  Text(0, 0, '')])"
      ]
     },
     "execution_count": 63,
     "metadata": {},
     "output_type": "execute_result"
    },
    {
     "data": {
      "image/png": "[encoded data removed]",
      "text/plain": [
       "<Figure size 432x288 with 1 Axes>"
      ]
     },
     "metadata": {},
     "output_type": "display_data"
    }
   ],
   "source": [
    "plt.plot(lolp_hour)\n",
    "plt.xticks(range(24))"
   ]
  },
  {
   "cell_type": "markdown",
   "metadata": {},
   "source": [
    "## Scenario"
   ]
  },
  {
   "cell_type": "code",
   "execution_count": 64,
   "metadata": {},
   "outputs": [
    {
     "data": {
      "text/plain": [
       "7780.814211089527"
      ]
     },
     "execution_count": 64,
     "metadata": {},
     "output_type": "execute_result"
    }
   ],
   "source": [
    "peak_demand = network.loads_t.p_set.sum(axis=1).max()\n",
    "peak_demand"
   ]
  },
  {
   "cell_type": "code",
   "execution_count": 65,
   "metadata": {},
   "outputs": [
    {
     "data": {
      "text/html": [
       "<div>\n",
       "<style scoped>\n",
       "    .dataframe tbody tr th:only-of-type {\n",
       "        vertical-align: middle;\n",
       "    }\n",
       "\n",
       "    .dataframe tbody tr th {\n",
       "        vertical-align: top;\n",
       "    }\n",
       "\n",
       "    .dataframe thead th {\n",
       "        text-align: right;\n",
       "    }\n",
       "</style>\n",
       "<table border=\"1\" class=\"dataframe\">\n",
       "  <thead>\n",
       "    <tr style=\"text-align: right;\">\n",
       "      <th></th>\n",
       "      <th>weather dependent capacity</th>\n",
       "    </tr>\n",
       "    <tr>\n",
       "      <th>snapshot</th>\n",
       "      <th></th>\n",
       "    </tr>\n",
       "  </thead>\n",
       "  <tbody>\n",
       "    <tr>\n",
       "      <th>2040-01-01 00:00:00</th>\n",
       "      <td>32450.813267</td>\n",
       "    </tr>\n",
       "    <tr>\n",
       "      <th>2040-01-01 01:00:00</th>\n",
       "      <td>33881.254721</td>\n",
       "    </tr>\n",
       "    <tr>\n",
       "      <th>2040-01-01 02:00:00</th>\n",
       "      <td>35205.075762</td>\n",
       "    </tr>\n",
       "    <tr>\n",
       "      <th>2040-01-01 03:00:00</th>\n",
       "      <td>35986.961697</td>\n",
       "    </tr>\n",
       "    <tr>\n",
       "      <th>2040-01-01 04:00:00</th>\n",
       "      <td>37198.266783</td>\n",
       "    </tr>\n",
       "    <tr>\n",
       "      <th>...</th>\n",
       "      <td>...</td>\n",
       "    </tr>\n",
       "    <tr>\n",
       "      <th>2040-12-31 19:00:00</th>\n",
       "      <td>39740.727470</td>\n",
       "    </tr>\n",
       "    <tr>\n",
       "      <th>2040-12-31 20:00:00</th>\n",
       "      <td>40218.888281</td>\n",
       "    </tr>\n",
       "    <tr>\n",
       "      <th>2040-12-31 21:00:00</th>\n",
       "      <td>40721.917647</td>\n",
       "    </tr>\n",
       "    <tr>\n",
       "      <th>2040-12-31 22:00:00</th>\n",
       "      <td>39432.577372</td>\n",
       "    </tr>\n",
       "    <tr>\n",
       "      <th>2040-12-31 23:00:00</th>\n",
       "      <td>39419.977014</td>\n",
       "    </tr>\n",
       "  </tbody>\n",
       "</table>\n",
       "<p>8784 rows × 1 columns</p>\n",
       "</div>"
      ],
      "text/plain": [
       "                     weather dependent capacity\n",
       "snapshot                                       \n",
       "2040-01-01 00:00:00                32450.813267\n",
       "2040-01-01 01:00:00                33881.254721\n",
       "2040-01-01 02:00:00                35205.075762\n",
       "2040-01-01 03:00:00                35986.961697\n",
       "2040-01-01 04:00:00                37198.266783\n",
       "...                                         ...\n",
       "2040-12-31 19:00:00                39740.727470\n",
       "2040-12-31 20:00:00                40218.888281\n",
       "2040-12-31 21:00:00                40721.917647\n",
       "2040-12-31 22:00:00                39432.577372\n",
       "2040-12-31 23:00:00                39419.977014\n",
       "\n",
       "[8784 rows x 1 columns]"
      ]
     },
     "execution_count": 65,
     "metadata": {},
     "output_type": "execute_result"
    }
   ],
   "source": [
    "pd_peakload_period = pd.DataFrame(pd_stations_w.sum(axis=1),columns=['weather dependent capacity'])\n",
    "pd_peakload_period"
   ]
  },
  {
   "cell_type": "code",
   "execution_count": 66,
   "metadata": {},
   "outputs": [
    {
     "data": {
      "text/html": [
       "<div>\n",
       "<style scoped>\n",
       "    .dataframe tbody tr th:only-of-type {\n",
       "        vertical-align: middle;\n",
       "    }\n",
       "\n",
       "    .dataframe tbody tr th {\n",
       "        vertical-align: top;\n",
       "    }\n",
       "\n",
       "    .dataframe thead th {\n",
       "        text-align: right;\n",
       "    }\n",
       "</style>\n",
       "<table border=\"1\" class=\"dataframe\">\n",
       "  <thead>\n",
       "    <tr style=\"text-align: right;\">\n",
       "      <th></th>\n",
       "      <th>weather dependent capacity</th>\n",
       "    </tr>\n",
       "    <tr>\n",
       "      <th>snapshot</th>\n",
       "      <th></th>\n",
       "    </tr>\n",
       "  </thead>\n",
       "  <tbody>\n",
       "    <tr>\n",
       "      <th>2040-01-02 07:00:00</th>\n",
       "      <td>53733.663045</td>\n",
       "    </tr>\n",
       "    <tr>\n",
       "      <th>2040-01-02 08:00:00</th>\n",
       "      <td>53672.248313</td>\n",
       "    </tr>\n",
       "    <tr>\n",
       "      <th>2040-01-02 09:00:00</th>\n",
       "      <td>53423.236849</td>\n",
       "    </tr>\n",
       "    <tr>\n",
       "      <th>2040-01-02 10:00:00</th>\n",
       "      <td>53009.143868</td>\n",
       "    </tr>\n",
       "    <tr>\n",
       "      <th>2040-01-02 11:00:00</th>\n",
       "      <td>53277.128147</td>\n",
       "    </tr>\n",
       "    <tr>\n",
       "      <th>...</th>\n",
       "      <td>...</td>\n",
       "    </tr>\n",
       "    <tr>\n",
       "      <th>2040-12-31 15:00:00</th>\n",
       "      <td>34809.847302</td>\n",
       "    </tr>\n",
       "    <tr>\n",
       "      <th>2040-12-31 16:00:00</th>\n",
       "      <td>35272.363506</td>\n",
       "    </tr>\n",
       "    <tr>\n",
       "      <th>2040-12-31 17:00:00</th>\n",
       "      <td>36928.685752</td>\n",
       "    </tr>\n",
       "    <tr>\n",
       "      <th>2040-12-31 18:00:00</th>\n",
       "      <td>38326.886156</td>\n",
       "    </tr>\n",
       "    <tr>\n",
       "      <th>2040-12-31 19:00:00</th>\n",
       "      <td>39740.727470</td>\n",
       "    </tr>\n",
       "  </tbody>\n",
       "</table>\n",
       "<p>1690 rows × 1 columns</p>\n",
       "</div>"
      ],
      "text/plain": [
       "                     weather dependent capacity\n",
       "snapshot                                       \n",
       "2040-01-02 07:00:00                53733.663045\n",
       "2040-01-02 08:00:00                53672.248313\n",
       "2040-01-02 09:00:00                53423.236849\n",
       "2040-01-02 10:00:00                53009.143868\n",
       "2040-01-02 11:00:00                53277.128147\n",
       "...                                         ...\n",
       "2040-12-31 15:00:00                34809.847302\n",
       "2040-12-31 16:00:00                35272.363506\n",
       "2040-12-31 17:00:00                36928.685752\n",
       "2040-12-31 18:00:00                38326.886156\n",
       "2040-12-31 19:00:00                39740.727470\n",
       "\n",
       "[1690 rows x 1 columns]"
      ]
     },
     "execution_count": 66,
     "metadata": {},
     "output_type": "execute_result"
    }
   ],
   "source": [
    "pd_peakload_period = pd_peakload_period[((pd_peakload_period.index.month<4)|(pd_peakload_period.index.month>10)) &\n",
    "              (pd_peakload_period.index.weekday<6) &\n",
    "              (pd_peakload_period.index.hour>6) & (pd_peakload_period.index.hour<20)]\n",
    "pd_peakload_period"
   ]
  },
  {
   "cell_type": "code",
   "execution_count": 67,
   "metadata": {},
   "outputs": [],
   "source": [
    "wdc = pd_peakload_period['weather dependent capacity'].to_numpy()"
   ]
  },
  {
   "cell_type": "code",
   "execution_count": 68,
   "metadata": {},
   "outputs": [
    {
     "data": {
      "text/plain": [
       "(1690,)"
      ]
     },
     "execution_count": 68,
     "metadata": {},
     "output_type": "execute_result"
    }
   ],
   "source": [
    "wdc.shape"
   ]
  },
  {
   "cell_type": "code",
   "execution_count": 69,
   "metadata": {},
   "outputs": [],
   "source": [
    "lolp_p = 0\n",
    "for i in range(wdc.shape[0]):\n",
    "    lolp_p += yy[xx<peak_demand-wdc[i]-expect_small_capacity+system_reserve_requirment].sum()/wdc.shape[0]"
   ]
  },
  {
   "cell_type": "code",
   "execution_count": 70,
   "metadata": {},
   "outputs": [
    {
     "data": {
      "text/plain": [
       "4.2465655950524436e-08"
      ]
     },
     "execution_count": 70,
     "metadata": {},
     "output_type": "execute_result"
    }
   ],
   "source": [
    "lolp_p"
   ]
  },
  {
   "cell_type": "markdown",
   "metadata": {},
   "source": [
    "### 2.1 Largest offshore wind farm failure "
   ]
  },
  {
   "cell_type": "code",
   "execution_count": 71,
   "metadata": {},
   "outputs": [],
   "source": [
    "largest_windfarm = network.generators_t.p_max_pu[network.generators[network.generators.carrier.isin(['Wind Onshore', 'Wind Offshore'])].p_nom.idxmax()] * network.generators[network.generators.carrier.isin(['Wind Onshore', 'Wind Offshore'])].p_nom.max()"
   ]
  },
  {
   "cell_type": "code",
   "execution_count": 72,
   "metadata": {},
   "outputs": [],
   "source": [
    "pd_peakload_period['largest windfarm supply'] = largest_windfarm[largest_windfarm.index.isin(pd_peakload_period.index)]"
   ]
  },
  {
   "cell_type": "code",
   "execution_count": 73,
   "metadata": {},
   "outputs": [],
   "source": [
    "lws = pd_peakload_period['largest windfarm supply'].to_numpy()"
   ]
  },
  {
   "cell_type": "code",
   "execution_count": 74,
   "metadata": {},
   "outputs": [],
   "source": [
    "lolp = list()\n",
    "for i in range(len(net_demand)):\n",
    "    lolp.append(yy[xx<net_demand[i] + largest_windfarm[i] - expect_small_capacity + system_reserve_requirment].sum())"
   ]
  },
  {
   "cell_type": "code",
   "execution_count": 75,
   "metadata": {},
   "outputs": [
    {
     "data": {
      "text/plain": [
       "2.8207119680933962e-05"
      ]
     },
     "execution_count": 75,
     "metadata": {},
     "output_type": "execute_result"
    }
   ],
   "source": [
    "sum(lolp)"
   ]
  },
  {
   "cell_type": "code",
   "execution_count": 76,
   "metadata": {},
   "outputs": [],
   "source": [
    "lolp_p = 0\n",
    "for i in range(wdc.shape[0]):\n",
    "    lolp_p += yy[xx<peak_demand-wdc[i]+lws[i]-expect_small_capacity+system_reserve_requirment].sum()/wdc.shape[0]"
   ]
  },
  {
   "cell_type": "code",
   "execution_count": 77,
   "metadata": {},
   "outputs": [
    {
     "data": {
      "text/plain": [
       "1.8623530748167664e-07"
      ]
     },
     "execution_count": 77,
     "metadata": {},
     "output_type": "execute_result"
    }
   ],
   "source": [
    "lolp_p"
   ]
  },
  {
   "cell_type": "markdown",
   "metadata": {},
   "source": [
    "### 2.2 Long period of low RES power scenario"
   ]
  },
  {
   "cell_type": "code",
   "execution_count": 78,
   "metadata": {},
   "outputs": [],
   "source": [
    "net_demand = network.loads_t.p_set.sum(axis=1) - pd_stations_w.sum(axis=1) * 0.8"
   ]
  },
  {
   "cell_type": "code",
   "execution_count": 79,
   "metadata": {},
   "outputs": [],
   "source": [
    "lolp = list()\n",
    "for i in range(len(net_demand)):\n",
    "    lolp.append(yy[xx<net_demand[i] - expect_small_capacity + system_reserve_requirment].sum())"
   ]
  },
  {
   "cell_type": "code",
   "execution_count": 80,
   "metadata": {},
   "outputs": [
    {
     "data": {
      "text/plain": [
       "1.0262984183035468e-05"
      ]
     },
     "execution_count": 80,
     "metadata": {},
     "output_type": "execute_result"
    }
   ],
   "source": [
    "sum(lolp)"
   ]
  },
  {
   "cell_type": "code",
   "execution_count": 81,
   "metadata": {},
   "outputs": [],
   "source": [
    "lolp_p = 0\n",
    "for i in range(wdc.shape[0]):\n",
    "    lolp_p += yy[xx<peak_demand-wdc[i]*0.8-expect_small_capacity+system_reserve_requirment].sum()/wdc.shape[0]"
   ]
  },
  {
   "cell_type": "code",
   "execution_count": 82,
   "metadata": {},
   "outputs": [
    {
     "data": {
      "text/plain": [
       "8.441342978826052e-08"
      ]
     },
     "execution_count": 82,
     "metadata": {},
     "output_type": "execute_result"
    }
   ],
   "source": [
    "lolp_p"
   ]
  },
  {
   "cell_type": "markdown",
   "metadata": {},
   "source": [
    "### 1 Gas supply issues "
   ]
  },
  {
   "cell_type": "code",
   "execution_count": 83,
   "metadata": {},
   "outputs": [],
   "source": [
    "installed_capacity, breakdwon_rate, net_demand, pd_stations_all, pd_stations_w = LOLP(network, year, year_baseline=year_baseline, failures_type=['CCGT','OCGT'], failures_rate=0.)"
   ]
  },
  {
   "cell_type": "code",
   "execution_count": 84,
   "metadata": {},
   "outputs": [
    {
     "name": "stdout",
     "output_type": "stream",
     "text": [
      "Number of laege generators: 43\n",
      "Boundary: 0.432\n"
     ]
    }
   ],
   "source": [
    "large_capacity, large_breakdwon_rate, expect_small_capacity = split_generators(installed_capacity, breakdwon_rate, value = 0, Round=True)\n",
    "xx, yy, pdf, cdf = probability_function(large_capacity, large_breakdwon_rate)"
   ]
  },
  {
   "cell_type": "code",
   "execution_count": 85,
   "metadata": {},
   "outputs": [],
   "source": [
    "lolp = list()\n",
    "for i in range(len(net_demand)):\n",
    "    lolp.append(yy[xx<net_demand[i] - expect_small_capacity + system_reserve_requirment].sum())"
   ]
  },
  {
   "cell_type": "code",
   "execution_count": 86,
   "metadata": {},
   "outputs": [
    {
     "data": {
      "text/plain": [
       "0.0012277389825180354"
      ]
     },
     "execution_count": 86,
     "metadata": {},
     "output_type": "execute_result"
    }
   ],
   "source": [
    "sum(lolp)"
   ]
  },
  {
   "cell_type": "code",
   "execution_count": 87,
   "metadata": {},
   "outputs": [],
   "source": [
    "lolp_p = 0\n",
    "for i in range(wdc.shape[0]):\n",
    "    lolp_p += yy[xx<peak_demand-wdc[i]-expect_small_capacity+system_reserve_requirment].sum()/wdc.shape[0]"
   ]
  },
  {
   "cell_type": "code",
   "execution_count": 88,
   "metadata": {},
   "outputs": [
    {
     "data": {
      "text/plain": [
       "4.649894022294829e-06"
      ]
     },
     "execution_count": 88,
     "metadata": {},
     "output_type": "execute_result"
    }
   ],
   "source": [
    "lolp_p"
   ]
  },
  {
   "cell_type": "markdown",
   "metadata": {},
   "source": [
    "### 3.1 Storage failures"
   ]
  },
  {
   "cell_type": "code",
   "execution_count": 89,
   "metadata": {},
   "outputs": [],
   "source": [
    "installed_capacity, breakdwon_rate, net_demand, pd_stations_all, pd_stations_w = LOLP(network, year, year_baseline=year_baseline, failures_type='Battery', failures_rate=0.)"
   ]
  },
  {
   "cell_type": "code",
   "execution_count": 90,
   "metadata": {},
   "outputs": [
    {
     "name": "stdout",
     "output_type": "stream",
     "text": [
      "Number of laege generators: 62\n",
      "Boundary: 0.0\n"
     ]
    }
   ],
   "source": [
    "large_capacity, large_breakdwon_rate, expect_small_capacity = split_generators(installed_capacity, breakdwon_rate, value = 0, Round=True)\n",
    "xx, yy, pdf, cdf = probability_function(large_capacity, large_breakdwon_rate)"
   ]
  },
  {
   "cell_type": "code",
   "execution_count": 91,
   "metadata": {},
   "outputs": [],
   "source": [
    "lolp = list()\n",
    "for i in range(len(net_demand)):\n",
    "    lolp.append(yy[xx<net_demand[i] - expect_small_capacity + system_reserve_requirment].sum())"
   ]
  },
  {
   "cell_type": "code",
   "execution_count": 92,
   "metadata": {
    "scrolled": true
   },
   "outputs": [
    {
     "data": {
      "text/plain": [
       "3.587613675306998e-05"
      ]
     },
     "execution_count": 92,
     "metadata": {},
     "output_type": "execute_result"
    }
   ],
   "source": [
    "sum(lolp)"
   ]
  },
  {
   "cell_type": "code",
   "execution_count": 93,
   "metadata": {},
   "outputs": [],
   "source": [
    "lolp_p = 0\n",
    "for i in range(wdc.shape[0]):\n",
    "    lolp_p += yy[xx<peak_demand-wdc[i]-expect_small_capacity+system_reserve_requirment].sum()/wdc.shape[0]"
   ]
  },
  {
   "cell_type": "code",
   "execution_count": 94,
   "metadata": {
    "scrolled": true
   },
   "outputs": [
    {
     "data": {
      "text/plain": [
       "2.5246365442650236e-07"
      ]
     },
     "execution_count": 94,
     "metadata": {},
     "output_type": "execute_result"
    }
   ],
   "source": [
    "lolp_p"
   ]
  },
  {
   "cell_type": "markdown",
   "metadata": {},
   "source": [
    "### 3.2 Interconnector failure"
   ]
  },
  {
   "cell_type": "code",
   "execution_count": 95,
   "metadata": {},
   "outputs": [],
   "source": [
    "installed_capacity, breakdwon_rate, net_demand, pd_stations_all, pd_stations_w = LOLP(network, year, year_baseline=year_baseline, failures_type='Interconnector', failures_rate=0.)"
   ]
  },
  {
   "cell_type": "code",
   "execution_count": 96,
   "metadata": {},
   "outputs": [
    {
     "name": "stdout",
     "output_type": "stream",
     "text": [
      "Number of laege generators: 68\n",
      "Boundary: 0.0\n"
     ]
    }
   ],
   "source": [
    "large_capacity, large_breakdwon_rate, expect_small_capacity = split_generators(installed_capacity, breakdwon_rate, value = 0, Round=True)\n",
    "xx, yy, pdf, cdf = probability_function(large_capacity, large_breakdwon_rate)"
   ]
  },
  {
   "cell_type": "code",
   "execution_count": 97,
   "metadata": {},
   "outputs": [],
   "source": [
    "lolp = list()\n",
    "for i in range(len(net_demand)):\n",
    "    lolp.append(yy[xx<net_demand[i] - expect_small_capacity + system_reserve_requirment].sum())"
   ]
  },
  {
   "cell_type": "code",
   "execution_count": 98,
   "metadata": {},
   "outputs": [
    {
     "data": {
      "text/plain": [
       "5.777886499123464e-05"
      ]
     },
     "execution_count": 98,
     "metadata": {},
     "output_type": "execute_result"
    }
   ],
   "source": [
    "sum(lolp)"
   ]
  },
  {
   "cell_type": "code",
   "execution_count": 99,
   "metadata": {},
   "outputs": [],
   "source": [
    "lolp_p = 0\n",
    "for i in range(wdc.shape[0]):\n",
    "    lolp_p += yy[xx<peak_demand-wdc[i]-expect_small_capacity+system_reserve_requirment].sum()/wdc.shape[0]"
   ]
  },
  {
   "cell_type": "code",
   "execution_count": 100,
   "metadata": {
    "scrolled": true
   },
   "outputs": [
    {
     "data": {
      "text/plain": [
       "4.560630541063018e-07"
      ]
     },
     "execution_count": 100,
     "metadata": {},
     "output_type": "execute_result"
    }
   ],
   "source": [
    "lolp_p"
   ]
  },
  {
   "cell_type": "markdown",
   "metadata": {},
   "source": [
    "## self-sufficient Scotland"
   ]
  },
  {
   "cell_type": "code",
   "execution_count": 101,
   "metadata": {},
   "outputs": [],
   "source": [
    "installed_capacity, breakdwon_rate, net_demand, pd_stations_all, pd_stations_w = LOLP(network, year, year_baseline=year_baseline, failures_type=['Interconnector','Englandconnector'], failures_rate=0.)"
   ]
  },
  {
   "cell_type": "code",
   "execution_count": 102,
   "metadata": {},
   "outputs": [
    {
     "name": "stdout",
     "output_type": "stream",
     "text": [
      "Number of laege generators: 65\n",
      "Boundary: 0.0\n"
     ]
    }
   ],
   "source": [
    "large_capacity, large_breakdwon_rate, expect_small_capacity = split_generators(installed_capacity, breakdwon_rate, value = 0, Round=True)\n",
    "xx, yy, pdf, cdf = probability_function(large_capacity, large_breakdwon_rate)"
   ]
  },
  {
   "cell_type": "code",
   "execution_count": 103,
   "metadata": {},
   "outputs": [],
   "source": [
    "lolp = list()\n",
    "for i in range(len(net_demand)):\n",
    "    lolp.append(yy[xx<net_demand[i] - expect_small_capacity + system_reserve_requirment].sum())"
   ]
  },
  {
   "cell_type": "code",
   "execution_count": 104,
   "metadata": {},
   "outputs": [
    {
     "data": {
      "text/plain": [
       "0.007146828200128982"
      ]
     },
     "execution_count": 104,
     "metadata": {},
     "output_type": "execute_result"
    }
   ],
   "source": [
    "sum(lolp)"
   ]
  },
  {
   "cell_type": "code",
   "execution_count": 105,
   "metadata": {},
   "outputs": [
    {
     "name": "stdout",
     "output_type": "stream",
     "text": [
      "for 200MW increased firm capacity, lole is 0.004257359452456555\n",
      "for 400MW increased firm capacity, lole is 0.0024868826844271197\n",
      "for 600MW increased firm capacity, lole is 0.0014161338310596189\n",
      "for 800MW increased firm capacity, lole is 0.0007946863392518929\n",
      "for 1000MW increased firm capacity, lole is 0.0004301769839743541\n",
      "for 1200MW increased firm capacity, lole is 0.00023253464976139715\n",
      "for 1400MW increased firm capacity, lole is 0.00012404715518738908\n",
      "for 1600MW increased firm capacity, lole is 6.441568135583232e-05\n",
      "for 1800MW increased firm capacity, lole is 3.209760827675899e-05\n"
     ]
    }
   ],
   "source": [
    "# test lole changes with adding increased firm capacity \n",
    "for i_ in range(1,10):\n",
    "    lolp = list()\n",
    "    for i in range(len(net_demand)):\n",
    "        lolp.append(yy[xx<net_demand[i]-expect_small_capacity+system_reserve_requirment-i_*200].sum())\n",
    "    lole = sum(lolp)\n",
    "    print(f'for {i_*200}MW increased firm capacity, lole is {lole}')"
   ]
  },
  {
   "cell_type": "code",
   "execution_count": 106,
   "metadata": {},
   "outputs": [
    {
     "name": "stdout",
     "output_type": "stream",
     "text": [
      "284.2750713825226\n"
     ]
    }
   ],
   "source": [
    "print(time.time()-st)"
   ]
  },
  {
   "cell_type": "code",
   "execution_count": null,
   "metadata": {},
   "outputs": [],
   "source": []
  }
 ],
 "metadata": {
  "kernelspec": {
   "display_name": "Python 3 (ipykernel)",
   "language": "python",
   "name": "python3"
  },
  "language_info": {
   "codemirror_mode": {
    "name": "ipython",
    "version": 3
   },
   "file_extension": ".py",
   "mimetype": "text/x-python",
   "name": "python",
   "nbconvert_exporter": "python",
   "pygments_lexer": "ipython3",
   "version": "3.9.12"
  },
  "vscode": {
   "interpreter": {
    "hash": "ff61c0836d6f46340fdc3cae08ffffc328eea96dacf3143a5c00c354a496cdb5"
   }
  }
 },
 "nbformat": 4,
 "nbformat_minor": 4
}
