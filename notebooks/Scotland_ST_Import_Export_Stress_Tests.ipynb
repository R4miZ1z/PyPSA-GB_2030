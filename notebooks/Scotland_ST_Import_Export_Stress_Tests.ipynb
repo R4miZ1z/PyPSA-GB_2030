{
 "cells": [
  {
   "cell_type": "code",
   "execution_count": 2,
   "metadata": {},
   "outputs": [],
   "source": [
    "import os\n",
    "from dotenv import find_dotenv, load_dotenv\n",
    "\n",
    "load_dotenv(find_dotenv())\n",
    "src_path = os.environ.get('PROJECT_SRC')\n",
    "os.chdir(src_path)"
   ]
  },
  {
   "cell_type": "code",
   "execution_count": 3,
   "metadata": {},
   "outputs": [],
   "source": [
    "from data_reader_writer import data_writer\n",
    "\n",
    "import pypsa\n",
    "\n",
    "import pandas as pd\n",
    "import numpy as np\n",
    "import matplotlib.pyplot as plt\n",
    "plt.style.use('ggplot')\n",
    "plt.rcParams.update({'font.size': 22})"
   ]
  },
  {
   "cell_type": "markdown",
   "metadata": {},
   "source": [
    "## Import and export analysis"
   ]
  },
  {
   "cell_type": "code",
   "execution_count": 4,
   "metadata": {},
   "outputs": [
    {
     "data": {
      "text/html": [
       "<div>\n",
       "<style scoped>\n",
       "    .dataframe tbody tr th:only-of-type {\n",
       "        vertical-align: middle;\n",
       "    }\n",
       "\n",
       "    .dataframe tbody tr th {\n",
       "        vertical-align: top;\n",
       "    }\n",
       "\n",
       "    .dataframe thead th {\n",
       "        text-align: right;\n",
       "    }\n",
       "</style>\n",
       "<table border=\"1\" class=\"dataframe\">\n",
       "  <thead>\n",
       "    <tr style=\"text-align: right;\">\n",
       "      <th></th>\n",
       "      <th>Import</th>\n",
       "      <th>Export</th>\n",
       "    </tr>\n",
       "  </thead>\n",
       "  <tbody>\n",
       "    <tr>\n",
       "      <th>0</th>\n",
       "      <td>172.507641</td>\n",
       "      <td>595.392006</td>\n",
       "    </tr>\n",
       "    <tr>\n",
       "      <th>1</th>\n",
       "      <td>383.871361</td>\n",
       "      <td>201.307969</td>\n",
       "    </tr>\n",
       "    <tr>\n",
       "      <th>2</th>\n",
       "      <td>53.317859</td>\n",
       "      <td>811.019188</td>\n",
       "    </tr>\n",
       "    <tr>\n",
       "      <th>3</th>\n",
       "      <td>48.013405</td>\n",
       "      <td>805.036493</td>\n",
       "    </tr>\n",
       "    <tr>\n",
       "      <th>4</th>\n",
       "      <td>174.708106</td>\n",
       "      <td>726.905993</td>\n",
       "    </tr>\n",
       "  </tbody>\n",
       "</table>\n",
       "</div>"
      ],
      "text/plain": [
       "       Import      Export\n",
       "0  172.507641  595.392006\n",
       "1  383.871361  201.307969\n",
       "2   53.317859  811.019188\n",
       "3   48.013405  805.036493\n",
       "4  174.708106  726.905993"
      ]
     },
     "execution_count": 4,
     "metadata": {},
     "output_type": "execute_result"
    }
   ],
   "source": [
    "wind_farm = {'Import': 172.507641, 'Export': 595.392006}\n",
    "low_res = {'Import': 383.871361, 'Export': 201.307969}\n",
    "gas = {'Import': 53.317859, 'Export': 811.019188}\n",
    "battery = {'Import': 48.013405, 'Export': 805.036493}\n",
    "interconnector = {'Import': 174.708106, 'Export': 726.905993}\n",
    "\n",
    "df = pd.DataFrame([wind_farm, low_res, gas, battery, interconnector], \n",
    "                  index=['Offshore wind farm failure', 'Low RES output',\n",
    "                         'Gas supply issue', 'Battery failure',\n",
    "                         'Interconnector issues'])\n",
    "df\n",
    "\n",
    "# df_import_export = pd.concat([B6_import, B6_export * -1], axis=1) / 1000000\n",
    "# df_import_export.columns = ['B6 Import', 'B6 Export']\n",
    "\n",
    "# df_import_export = df_import_export.groupby(df_import_export.index.to_period('M')).sum()\n",
    "# df_import_export.index = ['Jan', 'Feb', 'Mar', 'Apr', 'May', 'Jun', 'Jul', 'Aug', 'Sep', 'Oct', 'Nov', 'Dec']\n",
    "# df_import_export.plot(kind=\"bar\", rot=0, figsize=(11.69, 8.27))\n",
    "# plt.ylabel('TWh')\n",
    "# plt.xlabel('2045')\n",
    "# plt.grid(color='grey', linewidth=1, axis='both', alpha=0.5)\n"
   ]
  }
 ],
 "metadata": {
  "kernelspec": {
   "display_name": "Python 3.8.5 ('PyPSA-GB')",
   "language": "python",
   "name": "python3"
  },
  "language_info": {
   "codemirror_mode": {
    "name": "ipython",
    "version": 3
   },
   "file_extension": ".py",
   "mimetype": "text/x-python",
   "name": "python",
   "nbconvert_exporter": "python",
   "pygments_lexer": "ipython3",
   "version": "3.8.5"
  },
  "orig_nbformat": 4,
  "vscode": {
   "interpreter": {
    "hash": "0a362b17abcd2c031329e78f98409aa17fadf72082aebdc1d10da213122c16a7"
   }
  }
 },
 "nbformat": 4,
 "nbformat_minor": 2
}
